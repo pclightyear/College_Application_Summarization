{
 "cells": [
  {
   "cell_type": "code",
   "execution_count": 1,
   "metadata": {},
   "outputs": [],
   "source": [
    "import pandas as pd\n",
    "import os\n",
    "import re\n",
    "import json\n",
    "import string\n",
    "from collections import Counter\n",
    "from itertools import chain\n",
    "from importlib import reload\n",
    "\n",
    "from tqdm import tqdm\n",
    "tqdm.pandas(desc=\"progress: \")\n",
    "\n",
    "# Chinese character set\n",
    "from zhon import hanzi\n",
    "import opencc\n",
    "\n",
    "# Utility variable\n",
    "import sys\n",
    "sys.path.insert(0, '../..')\n",
    "\n",
    "# var\n",
    "import var.var as V\n",
    "import var.path as P\n",
    "\n",
    "# utils\n",
    "import utils.data as D\n",
    "import utils.io as IO\n",
    "import utils.get_path as GP\n",
    "import utils.preprocess as PP"
   ]
  },
  {
   "cell_type": "code",
   "execution_count": 2,
   "metadata": {},
   "outputs": [],
   "source": [
    "cc = opencc.OpenCC('s2tw')"
   ]
  },
  {
   "cell_type": "code",
   "execution_count": 3,
   "metadata": {
    "scrolled": true
   },
   "outputs": [],
   "source": [
    "df_applications = D.read_df_applications()\n",
    "df_recommendation_letters = D.read_df_recommendation_letters()\n",
    "df_achievements = D.read_df_achievements()"
   ]
  },
  {
   "cell_type": "code",
   "execution_count": null,
   "metadata": {
    "scrolled": true
   },
   "outputs": [],
   "source": [
    "df_applications.head()"
   ]
  },
  {
   "cell_type": "code",
   "execution_count": null,
   "metadata": {
    "scrolled": true
   },
   "outputs": [],
   "source": [
    "df_recommendation_letters.head()"
   ]
  },
  {
   "cell_type": "code",
   "execution_count": null,
   "metadata": {
    "scrolled": true
   },
   "outputs": [],
   "source": [
    "df_achievements.head()"
   ]
  },
  {
   "cell_type": "code",
   "execution_count": 7,
   "metadata": {},
   "outputs": [],
   "source": [
    "from docx import Document"
   ]
  },
  {
   "cell_type": "code",
   "execution_count": 8,
   "metadata": {},
   "outputs": [],
   "source": [
    "def get_ach_ss_rl(_year, _id):\n",
    "    ## process achievements\n",
    "    row = df_achievements.query('`year` == @_year and `id` == @_id')\n",
    "    ach = row['achievement'].to_list()\n",
    "    ach = '。'.join(ach) + '。'\n",
    "    ## process self statement and recommendation letter\n",
    "    row = df_applications.query('`id` == @_id')\n",
    "    \n",
    "    ss = row['self_statement'].to_list()[0][1:]\n",
    "    ss = ''.join(ss)\n",
    "    \n",
    "    rl_rows = df_recommendation_letters.query('`year` == {} and `id` == {}'.format(_year, _id))\n",
    "    try:\n",
    "        rls_sents = rl_rows['all_paragraph_sent'].to_list()\n",
    "    except:\n",
    "        rls_sents = []\n",
    "\n",
    "    if rls_sents == None:\n",
    "        rls_sents = []\n",
    "    \n",
    "    rls_sents = [''.join(sents) for sents in rls_sents]\n",
    "    rl = '。'.join(rls_sents)\n",
    "    \n",
    "    text = '\\n'.join([ach, ss, rl])\n",
    "    text = text.replace('\\n', '')\n",
    "    text = \"generate summary for the following article：\" + text\n",
    "    \n",
    "    print(text)\n",
    "    \n",
    "    return text"
   ]
  },
  {
   "cell_type": "code",
   "execution_count": 9,
   "metadata": {},
   "outputs": [],
   "source": [
    "def get_ach_ss(_year, _id):\n",
    "    ## process achievements\n",
    "    row = df_achievements.query('`year` == @_year and `id` == @_id')\n",
    "    ach = row['achievement'].to_list()\n",
    "    ach = '。'.join(ach) + '。'\n",
    "    ## process self statement and recommendation letter\n",
    "    row = df_applications.query('`id` == @_id')\n",
    "    \n",
    "    ss = row['self_statement'].to_list()[0][1:]\n",
    "    ss = ''.join(ss)\n",
    "    \n",
    "    text = '\\n'.join([ach, ss])\n",
    "    text = text.replace('\\n', '')\n",
    "    text = \"generate summary for the following article：\" + text\n",
    "    \n",
    "    print(text)\n",
    "    \n",
    "    return text"
   ]
  },
  {
   "cell_type": "code",
   "execution_count": 10,
   "metadata": {},
   "outputs": [],
   "source": [
    "def get_rl(_year, _id):\n",
    "    ## process self statement and recommendation letter\n",
    "    rl_rows = df_recommendation_letters.query('`year` == {} and `id` == {}'.format(_year, _id))\n",
    "    try:\n",
    "        rls_sents = rl_rows['all_paragraph_sent'].to_list()\n",
    "    except:\n",
    "        rls_sents = []\n",
    "\n",
    "    if rls_sents == None:\n",
    "        rls_sents = []\n",
    "    \n",
    "    rls_sents = [''.join(sents) for sents in rls_sents]\n",
    "    rl = '。'.join(rls_sents)\n",
    "    \n",
    "    text = '\\n'.join([rl])\n",
    "    text = text.replace('\\n', '')\n",
    "    text = \"generate summary for the following article：\" + text\n",
    "    \n",
    "    print(text)\n",
    "    \n",
    "    return text"
   ]
  },
  {
   "cell_type": "code",
   "execution_count": 55,
   "metadata": {},
   "outputs": [],
   "source": [
    "df_chatgpt_test = pd.read_csv(\"112_F_experiment.csv\")"
   ]
  },
  {
   "cell_type": "code",
   "execution_count": null,
   "metadata": {
    "scrolled": true
   },
   "outputs": [],
   "source": [
    "df_chatgpt_test"
   ]
  },
  {
   "cell_type": "code",
   "execution_count": null,
   "metadata": {},
   "outputs": [],
   "source": [
    "for _, row in df_chatgpt_test.iterrows():\n",
    "    _year = row['year']\n",
    "    _id = row['id']\n",
    "    _name = row['name']\n",
    "    _group = row['group']\n",
    "    \n",
    "    _app = get_ach_ss(_year, _id)\n",
    "    \n",
    "    doc = Document()\n",
    "    \n",
    "    fn = \"{}_{}_{}.docx\".format(_year, _id, _name)\n",
    "    _group_dir = os.path.join(\"../../experiment/112_F_quantitative_experiment\", _group, \"app\")\n",
    "    \n",
    "    if not os.path.exists(_group_dir):\n",
    "        os.makedirs(_group_dir)\n",
    "    \n",
    "    doc.add_paragraph(_app)\n",
    "    doc.save(os.path.join(_group_dir, fn))"
   ]
  },
  {
   "cell_type": "markdown",
   "metadata": {},
   "source": [
    "## Convert ChatGPT summary to traditional chinese"
   ]
  },
  {
   "cell_type": "code",
   "execution_count": null,
   "metadata": {},
   "outputs": [],
   "source": [
    "# for _, row in df_chatgpt_test.iterrows():\n",
    "#     _year = row['year']\n",
    "#     _id = row['id']\n",
    "#     _name = row['name']\n",
    "#     _group = row['group']\n",
    "#     _summary = row['summary']\n",
    "    \n",
    "#     _summary = cc.convert(_summary)\n",
    "    \n",
    "#     doc = Document()\n",
    "    \n",
    "#     fn = \"{}_{}_{}.docx\".format(_year, _id, _name)\n",
    "#     _group_dir = os.path.join(\"../../112_F_ChatGPT\", _group, \"ChatGPT_summary\")\n",
    "    \n",
    "#     if not os.path.exists(_group_dir):\n",
    "#         os.makedirs(_group_dir)\n",
    "    \n",
    "#     doc.add_paragraph(_summary)\n",
    "#     doc.save(os.path.join(_group_dir, fn))\n",
    "    \n",
    "#     doc = Document()\n",
    "    \n",
    "#     fn = \"{}_{}_{}_app.docx\".format(_year, _id, _name)\n",
    "#     _group_dir = os.path.join(_group, \"app\")\n",
    "    \n",
    "#     if not os.path.exists(_group_dir):\n",
    "#         os.makedirs(_group_dir)\n",
    "    \n",
    "#     doc.save(os.path.join(_group_dir, fn))"
   ]
  },
  {
   "cell_type": "markdown",
   "metadata": {},
   "source": [
    "## Save the results"
   ]
  },
  {
   "cell_type": "code",
   "execution_count": 39,
   "metadata": {},
   "outputs": [],
   "source": [
    "D.write_df_applications(df_applications, file='csv')\n",
    "D.write_df_applications(df_applications, file='pkl')"
   ]
  },
  {
   "cell_type": "code",
   "execution_count": null,
   "metadata": {},
   "outputs": [],
   "source": []
  }
 ],
 "metadata": {
  "kernelspec": {
   "display_name": "research_venv",
   "language": "python",
   "name": "research_venv"
  },
  "language_info": {
   "codemirror_mode": {
    "name": "ipython",
    "version": 3
   },
   "file_extension": ".py",
   "mimetype": "text/x-python",
   "name": "python",
   "nbconvert_exporter": "python",
   "pygments_lexer": "ipython3",
   "version": "3.10.8"
  }
 },
 "nbformat": 4,
 "nbformat_minor": 4
}
