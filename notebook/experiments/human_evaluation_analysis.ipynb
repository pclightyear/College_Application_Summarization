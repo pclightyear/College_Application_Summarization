{
 "cells": [
  {
   "cell_type": "code",
   "execution_count": 30,
   "id": "37fb2a43",
   "metadata": {},
   "outputs": [],
   "source": [
    "import numpy as np\n",
    "import pandas as pd\n",
    "\n",
    "from itertools import product"
   ]
  },
  {
   "cell_type": "code",
   "execution_count": 2,
   "id": "6c87b5c8",
   "metadata": {},
   "outputs": [],
   "source": [
    "df_test_data = pd.read_csv(\"112_F_experiment.csv\")\n",
    "df_results = pd.read_csv(\"human_evaluation_form_data.csv\")"
   ]
  },
  {
   "cell_type": "code",
   "execution_count": null,
   "id": "21eed668",
   "metadata": {},
   "outputs": [],
   "source": [
    "df_test_data.head()"
   ]
  },
  {
   "cell_type": "code",
   "execution_count": null,
   "id": "00392c2f",
   "metadata": {},
   "outputs": [],
   "source": [
    "df_results.head()"
   ]
  },
  {
   "cell_type": "markdown",
   "id": "2875708f",
   "metadata": {},
   "source": [
    "## Process data"
   ]
  },
  {
   "cell_type": "code",
   "execution_count": 11,
   "id": "66c09be4",
   "metadata": {},
   "outputs": [],
   "source": [
    "summary_id = []\n",
    "\n",
    "for _g, _id in zip(df_test_data['group'], df_test_data['for app id']):\n",
    "    summary_id.append(str(_g) + str(_id))\n",
    "    \n",
    "df_test_data['summary_id'] = summary_id"
   ]
  },
  {
   "cell_type": "markdown",
   "id": "e1e32f24",
   "metadata": {},
   "source": [
    "## Analysis by admission status"
   ]
  },
  {
   "cell_type": "code",
   "execution_count": 13,
   "id": "ba9ed57b",
   "metadata": {},
   "outputs": [],
   "source": [
    "summary_id_to_admission_status = {}\n",
    "\n",
    "for _, row in df_test_data.iterrows():\n",
    "    summary_id = row['summary_id']\n",
    "    admission_status = row['類別']\n",
    "    \n",
    "    summary_id_to_admission_status[summary_id] = admission_status"
   ]
  },
  {
   "cell_type": "code",
   "execution_count": null,
   "id": "a2ce0caa",
   "metadata": {},
   "outputs": [],
   "source": [
    "summary_id_to_admission_status"
   ]
  },
  {
   "attachments": {},
   "cell_type": "markdown",
   "id": "04052dff",
   "metadata": {},
   "source": [
    "### Aggregate results\n",
    "```\n",
    "## Format\n",
    "\n",
    "ours_results = {\n",
    "    \"F\": {\n",
    "        \"coverage\": [],\n",
    "        \"diversity\": [],\n",
    "        \"uniqueness\": [],\n",
    "        \"convenience\": []\n",
    "    },\n",
    "    \"正取\": {\n",
    "        \"coverage\": [],\n",
    "        \"diversity\": [],\n",
    "        \"uniqueness\": [],\n",
    "        \"convenience\": []\n",
    "    },\n",
    "    \"備取\": {\n",
    "        \"coverage\": [],\n",
    "        \"diversity\": [],\n",
    "        \"uniqueness\": [],\n",
    "        \"convenience\": []\n",
    "    },\n",
    "}\n",
    "\n",
    "## similar with chatgpt_results\n",
    "```"
   ]
  },
  {
   "cell_type": "code",
   "execution_count": 49,
   "id": "45c03048",
   "metadata": {},
   "outputs": [],
   "source": [
    "summary_id = range(1, 1+6)\n",
    "metrics = [\"coverage\", \"diversity\", \"uniqueness\", \"convenience\"]\n",
    "summary_version = [\"A\", \"B\"]"
   ]
  },
  {
   "cell_type": "code",
   "execution_count": 50,
   "id": "079b35f7",
   "metadata": {},
   "outputs": [],
   "source": [
    "ours_results = {\n",
    "    \"F\": {\n",
    "        \"coverage\": [],\n",
    "        \"diversity\": [],\n",
    "        \"uniqueness\": [],\n",
    "        \"convenience\": []\n",
    "    },\n",
    "    \"正取\": {\n",
    "        \"coverage\": [],\n",
    "        \"diversity\": [],\n",
    "        \"uniqueness\": [],\n",
    "        \"convenience\": []\n",
    "    },\n",
    "    \"備取\": {\n",
    "        \"coverage\": [],\n",
    "        \"diversity\": [],\n",
    "        \"uniqueness\": [],\n",
    "        \"convenience\": []\n",
    "    },\n",
    "}\n",
    "\n",
    "chatgpt_results = {\n",
    "    \"F\": {\n",
    "        \"coverage\": [],\n",
    "        \"diversity\": [],\n",
    "        \"uniqueness\": [],\n",
    "        \"convenience\": []\n",
    "    },\n",
    "    \"正取\": {\n",
    "        \"coverage\": [],\n",
    "        \"diversity\": [],\n",
    "        \"uniqueness\": [],\n",
    "        \"convenience\": []\n",
    "    },\n",
    "    \"備取\": {\n",
    "        \"coverage\": [],\n",
    "        \"diversity\": [],\n",
    "        \"uniqueness\": [],\n",
    "        \"convenience\": []\n",
    "    },\n",
    "}"
   ]
  },
  {
   "cell_type": "code",
   "execution_count": 52,
   "id": "64b93fc8",
   "metadata": {},
   "outputs": [],
   "source": [
    "for _, row in df_results.iterrows():\n",
    "    _group = row['組別']\n",
    "    \n",
    "    \n",
    "    for i, (sid, sv, m) in enumerate(product(summary_id, summary_version, metrics)):\n",
    "        value = row[i + 11]\n",
    "        \n",
    "        app_info = df_test_data.query(\"`group` == @_group and `for app id` == @sid\")\n",
    "        ## query to get status\n",
    "        status = app_info['類別'].to_list()[0]\n",
    "        \n",
    "        ## append results to corresponding summary version\n",
    "        if app_info['ChatGPT Summary ID'].to_list()[0] == sv:\n",
    "            chatgpt_results[status][m].append(value)\n",
    "        elif app_info['Our Summary ID'].to_list()[0] == sv:\n",
    "            ours_results[status][m].append(value)"
   ]
  },
  {
   "cell_type": "code",
   "execution_count": 60,
   "id": "f273bd38",
   "metadata": {},
   "outputs": [
    {
     "data": {
      "text/html": [
       "<div>\n",
       "<style scoped>\n",
       "    .dataframe tbody tr th:only-of-type {\n",
       "        vertical-align: middle;\n",
       "    }\n",
       "\n",
       "    .dataframe tbody tr th {\n",
       "        vertical-align: top;\n",
       "    }\n",
       "\n",
       "    .dataframe thead th {\n",
       "        text-align: right;\n",
       "    }\n",
       "</style>\n",
       "<table border=\"1\" class=\"dataframe\">\n",
       "  <thead>\n",
       "    <tr style=\"text-align: right;\">\n",
       "      <th></th>\n",
       "      <th>coverage</th>\n",
       "      <th>diversity</th>\n",
       "      <th>uniqueness</th>\n",
       "      <th>convenience</th>\n",
       "    </tr>\n",
       "  </thead>\n",
       "  <tbody>\n",
       "    <tr>\n",
       "      <th>F</th>\n",
       "      <td>3.576923</td>\n",
       "      <td>3.153846</td>\n",
       "      <td>3.153846</td>\n",
       "      <td>3.346154</td>\n",
       "    </tr>\n",
       "    <tr>\n",
       "      <th>正取</th>\n",
       "      <td>3.538462</td>\n",
       "      <td>3.192308</td>\n",
       "      <td>3.384615</td>\n",
       "      <td>3.461538</td>\n",
       "    </tr>\n",
       "    <tr>\n",
       "      <th>備取</th>\n",
       "      <td>3.500000</td>\n",
       "      <td>3.307692</td>\n",
       "      <td>3.269231</td>\n",
       "      <td>3.423077</td>\n",
       "    </tr>\n",
       "  </tbody>\n",
       "</table>\n",
       "</div>"
      ],
      "text/plain": [
       "    coverage  diversity  uniqueness  convenience\n",
       "F   3.576923   3.153846    3.153846     3.346154\n",
       "正取  3.538462   3.192308    3.384615     3.461538\n",
       "備取  3.500000   3.307692    3.269231     3.423077"
      ]
     },
     "execution_count": 60,
     "metadata": {},
     "output_type": "execute_result"
    }
   ],
   "source": [
    "## result of chatgpt\n",
    "df_chatgpt_results = pd.DataFrame(chatgpt_results)\n",
    "\n",
    "df_chatgpt_results['F'] = df_chatgpt_results['F'].apply(np.mean)\n",
    "df_chatgpt_results['正取'] = df_chatgpt_results['正取'].apply(np.mean)\n",
    "df_chatgpt_results['備取'] = df_chatgpt_results['備取'].apply(np.mean)\n",
    "\n",
    "df_chatgpt_results = df_chatgpt_results.transpose()\n",
    "df_chatgpt_results"
   ]
  },
  {
   "cell_type": "code",
   "execution_count": 61,
   "id": "110776d5",
   "metadata": {},
   "outputs": [
    {
     "data": {
      "text/html": [
       "<div>\n",
       "<style scoped>\n",
       "    .dataframe tbody tr th:only-of-type {\n",
       "        vertical-align: middle;\n",
       "    }\n",
       "\n",
       "    .dataframe tbody tr th {\n",
       "        vertical-align: top;\n",
       "    }\n",
       "\n",
       "    .dataframe thead th {\n",
       "        text-align: right;\n",
       "    }\n",
       "</style>\n",
       "<table border=\"1\" class=\"dataframe\">\n",
       "  <thead>\n",
       "    <tr style=\"text-align: right;\">\n",
       "      <th></th>\n",
       "      <th>coverage</th>\n",
       "      <th>diversity</th>\n",
       "      <th>uniqueness</th>\n",
       "      <th>convenience</th>\n",
       "    </tr>\n",
       "  </thead>\n",
       "  <tbody>\n",
       "    <tr>\n",
       "      <th>F</th>\n",
       "      <td>3.692308</td>\n",
       "      <td>3.653846</td>\n",
       "      <td>3.730769</td>\n",
       "      <td>3.653846</td>\n",
       "    </tr>\n",
       "    <tr>\n",
       "      <th>正取</th>\n",
       "      <td>3.692308</td>\n",
       "      <td>3.384615</td>\n",
       "      <td>3.615385</td>\n",
       "      <td>3.653846</td>\n",
       "    </tr>\n",
       "    <tr>\n",
       "      <th>備取</th>\n",
       "      <td>3.846154</td>\n",
       "      <td>3.769231</td>\n",
       "      <td>3.461538</td>\n",
       "      <td>3.576923</td>\n",
       "    </tr>\n",
       "  </tbody>\n",
       "</table>\n",
       "</div>"
      ],
      "text/plain": [
       "    coverage  diversity  uniqueness  convenience\n",
       "F   3.692308   3.653846    3.730769     3.653846\n",
       "正取  3.692308   3.384615    3.615385     3.653846\n",
       "備取  3.846154   3.769231    3.461538     3.576923"
      ]
     },
     "execution_count": 61,
     "metadata": {},
     "output_type": "execute_result"
    }
   ],
   "source": [
    "## result of ours\n",
    "df_ours_results = pd.DataFrame(ours_results)\n",
    "\n",
    "df_ours_results['F'] = df_ours_results['F'].apply(np.mean)\n",
    "df_ours_results['正取'] = df_ours_results['正取'].apply(np.mean)\n",
    "df_ours_results['備取'] = df_ours_results['備取'].apply(np.mean)\n",
    "\n",
    "df_ours_results = df_ours_results.transpose()\n",
    "df_ours_results"
   ]
  },
  {
   "cell_type": "code",
   "execution_count": null,
   "id": "1d77a99d",
   "metadata": {},
   "outputs": [],
   "source": []
  }
 ],
 "metadata": {
  "kernelspec": {
   "display_name": "research_venv",
   "language": "python",
   "name": "research_venv"
  },
  "language_info": {
   "codemirror_mode": {
    "name": "ipython",
    "version": 3
   },
   "file_extension": ".py",
   "mimetype": "text/x-python",
   "name": "python",
   "nbconvert_exporter": "python",
   "pygments_lexer": "ipython3",
   "version": "3.10.8"
  }
 },
 "nbformat": 4,
 "nbformat_minor": 5
}
