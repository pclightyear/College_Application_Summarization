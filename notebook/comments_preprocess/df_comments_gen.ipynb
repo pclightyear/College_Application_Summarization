{
 "cells": [
  {
   "cell_type": "markdown",
   "id": "2b40a921",
   "metadata": {},
   "source": [
    "# README\n",
    "\n",
    "### Purpose of this notebook\n",
    "- Create dataframe for committee comment.\n",
    "\n",
    "### Steps\n",
    "1. Concatenate all raw csv files into one csv file.\n",
    "2. Extract columns and create dataframe from the merged data sheet.\n",
    "3. Simple EDA and perform null value check in the dataframe.\n",
    "    - Convert 6 level grade (ABCDEF) to 4 level grade (ABCF)\n",
    "    - Handle outliers\n",
    "\n",
    "For preprocessing the comments, go to ` comment_preprocess_split_sentences` and ` comment_preprocess_tokenization` notebooks."
   ]
  },
  {
   "cell_type": "markdown",
   "id": "e784f91f",
   "metadata": {},
   "source": [
    "# Import Library"
   ]
  },
  {
   "cell_type": "code",
   "execution_count": null,
   "id": "3d3fd8bd",
   "metadata": {},
   "outputs": [],
   "source": [
    "import pandas as pd\n",
    "import numpy as np\n",
    "\n",
    "from importlib import reload\n",
    "from pprint import pprint\n",
    "\n",
    "# Utility variable\n",
    "import sys\n",
    "sys.path.insert(0, '../..')\n",
    "\n",
    "# var\n",
    "import var.path as P\n",
    "import var.var as V\n",
    "\n",
    "# utils\n",
    "import utils.data as D"
   ]
  },
  {
   "cell_type": "markdown",
   "id": "71f8f28a",
   "metadata": {},
   "source": [
    "## Merge data from different year"
   ]
  },
  {
   "cell_type": "code",
   "execution_count": null,
   "id": "d02cb38b",
   "metadata": {},
   "outputs": [],
   "source": [
    "csvs = []\n",
    "\n",
    "for fp in P.FP_COMMENT_CSV:\n",
    "    try:\n",
    "        csv = pd.read_csv(fp)\n",
    "        csvs.append(csv)\n",
    "    except:\n",
    "        pass\n",
    "    \n",
    "df = pd.concat(csvs)"
   ]
  },
  {
   "cell_type": "code",
   "execution_count": null,
   "id": "92a74300",
   "metadata": {},
   "outputs": [],
   "source": [
    "df.shape"
   ]
  },
  {
   "cell_type": "code",
   "execution_count": null,
   "id": "72d3bfea",
   "metadata": {},
   "outputs": [],
   "source": [
    "df.columns"
   ]
  },
  {
   "cell_type": "code",
   "execution_count": null,
   "id": "a02f7ce5",
   "metadata": {},
   "outputs": [],
   "source": [
    "df.to_csv(P.FP_ALL_COMMENT_CSV, index=False)"
   ]
  },
  {
   "cell_type": "markdown",
   "id": "0d868ffa",
   "metadata": {},
   "source": [
    "# Read all data and preprocess"
   ]
  },
  {
   "cell_type": "markdown",
   "id": "7c85aa55",
   "metadata": {},
   "source": [
    "### Utilities"
   ]
  },
  {
   "cell_type": "code",
   "execution_count": null,
   "id": "b5e56039",
   "metadata": {},
   "outputs": [],
   "source": [
    "df = pd.read_csv(P.FP_ALL_COMMENT_CSV)\n",
    "df.shape"
   ]
  },
  {
   "cell_type": "code",
   "execution_count": null,
   "id": "83a79793",
   "metadata": {},
   "outputs": [],
   "source": [
    "for col in df:\n",
    "    print(df[col].isna().value_counts())\n",
    "    print('-'*50)"
   ]
  },
  {
   "cell_type": "code",
   "execution_count": null,
   "id": "e5b72b71",
   "metadata": {},
   "outputs": [],
   "source": [
    "df.columns"
   ]
  },
  {
   "cell_type": "code",
   "execution_count": null,
   "id": "6362edd1",
   "metadata": {},
   "outputs": [],
   "source": [
    "col_year = \"# The content is removed due to confidential concerns.\"\n",
    "col_id = \"# The content is removed due to confidential concerns.\"\n",
    "col_group = \"# The content is removed due to confidential concerns.\"\n",
    "\n",
    "fstr_committee_member_grade = \"# The content is removed due to confidential concerns.\"\n",
    "fstr_committee_member_original_grade = \"# The content is removed due to confidential concerns.\"\n",
    "fstr_committee_member_score = \"# The content is removed due to confidential concerns.\"\n",
    "fstr_committee_member_original_score = \"# The content is removed due to confidential concerns.\"\n",
    "fstr_committee_member_comment = \"# The content is removed due to confidential concerns.\""
   ]
  },
  {
   "cell_type": "markdown",
   "id": "49372005",
   "metadata": {},
   "source": [
    "## Create dataframe with committee member's grade and comment"
   ]
  },
  {
   "cell_type": "code",
   "execution_count": null,
   "id": "a5cc522b",
   "metadata": {},
   "outputs": [],
   "source": [
    "df_grade_comment_data_list = []\n",
    "\n",
    "\"\"\"\n",
    "First, create a list of dictionary (row data).\n",
    "Then, create the dataframe with the list of data.\n",
    "NEVER append row data inside a for loop, which is a common cause of the poor performance.\n",
    "(At each iteration, a new dataframe would be created. What a waste!)\n",
    "\"\"\"\n",
    "\n",
    "for idx, row in df.iterrows():\n",
    "    for member_num in range(1, V.MAX_NUM_COMMITTEE_MEMBER+1):\n",
    "        col_committee_member_grade = fstr_committee_member_grade.format(member_num)\n",
    "        col_committee_member_original_grade = fstr_committee_member_original_grade.format(member_num)\n",
    "        col_committee_member_score = fstr_committee_member_score.format(member_num)\n",
    "        col_committee_member_original_score = fstr_committee_member_original_score.format(member_num)\n",
    "        col_committee_member_comment = fstr_committee_member_comment.format(member_num)\n",
    "        \n",
    "        df_rc_row_data = {\n",
    "            'year': row[col_year],\n",
    "            'id': row[col_id],\n",
    "            'group': row[col_group],\n",
    "            'committee_number': member_num,\n",
    "            'grade': row[col_committee_member_grade],\n",
    "            'original_grade': row[col_committee_member_original_grade],\n",
    "            'score': row[col_committee_member_score],\n",
    "            'original_score': row[col_committee_member_original_score],\n",
    "            'comment': row[col_committee_member_comment]\n",
    "        }\n",
    "        \n",
    "        if pd.isna(df_rc_row_data['grade']):\n",
    "            continue\n",
    "        \n",
    "        df_grade_comment_data_list.append(df_rc_row_data)\n",
    "                        \n",
    "df_comments = pd.DataFrame(df_grade_comment_data_list)"
   ]
  },
  {
   "cell_type": "code",
   "execution_count": null,
   "id": "3f20910f",
   "metadata": {},
   "outputs": [],
   "source": [
    "df_comments.comment.fillna(0, inplace=True)\n",
    "df_comments.id = df_comments.id.astype('int64')"
   ]
  },
  {
   "cell_type": "code",
   "execution_count": null,
   "id": "bc28f224",
   "metadata": {},
   "outputs": [],
   "source": [
    "df_comments.head()"
   ]
  },
  {
   "cell_type": "markdown",
   "id": "23e186f8",
   "metadata": {},
   "source": [
    "### Check for null value in each column"
   ]
  },
  {
   "cell_type": "code",
   "execution_count": null,
   "id": "28093910",
   "metadata": {},
   "outputs": [],
   "source": [
    "for col in df_comments:\n",
    "    print(df_comments[col].isna().value_counts())\n",
    "    print('-'*50)"
   ]
  },
  {
   "cell_type": "markdown",
   "id": "0dccf373",
   "metadata": {},
   "source": [
    "### Deal with group outliers"
   ]
  },
  {
   "cell_type": "code",
   "execution_count": null,
   "id": "dc6ae1da",
   "metadata": {},
   "outputs": [],
   "source": [
    "df_comments.group.value_counts()"
   ]
  },
  {
   "cell_type": "code",
   "execution_count": null,
   "id": "6ed0d8a6",
   "metadata": {},
   "outputs": [],
   "source": [
    "group_outliers = [\"# The content is removed due to confidential concerns.\"]"
   ]
  },
  {
   "cell_type": "code",
   "execution_count": null,
   "id": "0908e252",
   "metadata": {},
   "outputs": [],
   "source": [
    "for o in group_outliers:\n",
    "    pprint(df_comments[df_comments.group == o])\n",
    "    print(\"---------------\")"
   ]
  },
  {
   "cell_type": "code",
   "execution_count": null,
   "id": "b03098a8",
   "metadata": {},
   "outputs": [],
   "source": [
    "group_outliers = [\"# The content is removed due to confidential concerns.\"]\n",
    "group_outlier_dict = {\n",
    "    \"# The content is removed due to confidential concerns.\"\n",
    "}"
   ]
  },
  {
   "cell_type": "code",
   "execution_count": null,
   "id": "a9102205",
   "metadata": {},
   "outputs": [],
   "source": [
    "df_comments['group'] = df_comments.group.apply(\n",
    "    lambda g: group_outlier_dict[g] if g in group_outliers else g\n",
    ")"
   ]
  },
  {
   "cell_type": "markdown",
   "id": "205c2b8e",
   "metadata": {},
   "source": [
    "### Count the number of students in each group\n",
    "\n",
    "The content is removed due to confidential concerns."
   ]
  },
  {
   "cell_type": "code",
   "execution_count": null,
   "id": "0246b209",
   "metadata": {},
   "outputs": [],
   "source": [
    "df_comments.group.value_counts()"
   ]
  },
  {
   "cell_type": "markdown",
   "id": "2dc0b90c",
   "metadata": {},
   "source": [
    "### Merge two different grade system\n",
    "The content is removed due to confidential concerns."
   ]
  },
  {
   "cell_type": "code",
   "execution_count": null,
   "id": "50c538c6",
   "metadata": {},
   "outputs": [],
   "source": [
    "grading_system_mapping = {\n",
    "    \"# The content is removed due to confidential concerns.\"\n",
    "}"
   ]
  },
  {
   "cell_type": "code",
   "execution_count": null,
   "id": "05ff2072",
   "metadata": {},
   "outputs": [],
   "source": [
    "def map_grade_systems(row, column):\n",
    "    _year = row['year']\n",
    "    _grade = row[column]\n",
    "    \n",
    "    if _year <= 108:\n",
    "        try:\n",
    "            return grading_system_mapping[_grade]\n",
    "        except:\n",
    "            ## return nan\n",
    "            return _grade\n",
    "    else:\n",
    "        return _grade"
   ]
  },
  {
   "cell_type": "code",
   "execution_count": null,
   "id": "8f8c24ac",
   "metadata": {},
   "outputs": [],
   "source": [
    "df_comments['grade'] = df_comments.apply(lambda row: map_grade_systems(row, 'grade'), axis=1)\n",
    "df_comments['original_grade'] = df_comments.apply(lambda row: map_grade_systems(row, 'original_grade'), axis=1)"
   ]
  },
  {
   "cell_type": "code",
   "execution_count": null,
   "id": "daca2cae",
   "metadata": {},
   "outputs": [],
   "source": [
    "df_comments['grade'].value_counts()"
   ]
  },
  {
   "cell_type": "code",
   "execution_count": null,
   "id": "7dbdbe73",
   "metadata": {},
   "outputs": [],
   "source": [
    "df_comments['original_grade'].value_counts()"
   ]
  },
  {
   "cell_type": "markdown",
   "id": "6055487d",
   "metadata": {},
   "source": [
    "### Fill in values with null score"
   ]
  },
  {
   "cell_type": "code",
   "execution_count": null,
   "id": "de4306d9",
   "metadata": {},
   "outputs": [],
   "source": [
    "df_comments['score'] = df_comments.apply(\n",
    "    lambda r: V.NULL_GRADE_FILL[r['grade']] if np.isnan(r['score']) else r['score'],\n",
    "    axis=1\n",
    ")"
   ]
  },
  {
   "cell_type": "markdown",
   "id": "f6dd43bf",
   "metadata": {},
   "source": [
    "### Sort the dataframe and write the file"
   ]
  },
  {
   "cell_type": "code",
   "execution_count": null,
   "id": "dea230be",
   "metadata": {},
   "outputs": [],
   "source": [
    "df_comments.sort_values(by=['year', 'id', 'committee_number'], inplace=True)\n",
    "df_comments.reset_index(drop=True, inplace=True)\n",
    "df_comments.head()"
   ]
  },
  {
   "cell_type": "code",
   "execution_count": null,
   "id": "c23354e6",
   "metadata": {},
   "outputs": [],
   "source": [
    "df_comments.shape"
   ]
  },
  {
   "cell_type": "code",
   "execution_count": null,
   "id": "ffa30efa",
   "metadata": {},
   "outputs": [],
   "source": [
    "D.write_df_comments(df_comments, file='csv')\n",
    "D.write_df_comments(df_comments, file='pkl')"
   ]
  },
  {
   "cell_type": "code",
   "execution_count": null,
   "id": "e210302b",
   "metadata": {},
   "outputs": [],
   "source": []
  }
 ],
 "metadata": {
  "kernelspec": {
   "display_name": "research_venv",
   "language": "python",
   "name": "research_venv"
  },
  "language_info": {
   "codemirror_mode": {
    "name": "ipython",
    "version": 3
   },
   "file_extension": ".py",
   "mimetype": "text/x-python",
   "name": "python",
   "nbconvert_exporter": "python",
   "pygments_lexer": "ipython3",
   "version": "3.10.8"
  }
 },
 "nbformat": 4,
 "nbformat_minor": 5
}
