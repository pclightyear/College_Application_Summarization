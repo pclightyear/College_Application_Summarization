{
 "cells": [
  {
   "cell_type": "markdown",
   "id": "517a4965",
   "metadata": {},
   "source": [
    "# README\n",
    "\n",
    "### Purpose of this notebook\n",
    "- Perform EDA on comment data and applicant data.\n",
    "\n",
    "### Steps\n",
    "1. Read the comment data and applicant data.\n",
    "2. Data preprocess\n",
    "    - Calculate the length of the comments.\n",
    "    - Aggregate talent field for applicants.\n",
    "3. Generate word cloud for each talent.\n",
    "4. Plot grade distribution for each year.\n",
    "5. Calculate standard deviation by different grouping method.\n",
    "6. Draw distribution of the grade difference"
   ]
  },
  {
   "cell_type": "markdown",
   "id": "e784f91f",
   "metadata": {},
   "source": [
    "# Import Library"
   ]
  },
  {
   "cell_type": "code",
   "execution_count": null,
   "id": "3d3fd8bd",
   "metadata": {},
   "outputs": [],
   "source": [
    "import pandas as pd\n",
    "import numpy as np\n",
    "\n",
    "import matplotlib.pyplot as plt\n",
    "from mpl_toolkits.axes_grid1 import ImageGrid\n",
    "from wordcloud import WordCloud\n",
    "\n",
    "from importlib import reload\n",
    "\n",
    "import os\n",
    "import math\n",
    "\n",
    "# Utility variable\n",
    "import sys\n",
    "sys.path.insert(0, '../..')\n",
    "\n",
    "# var\n",
    "import var.path as P\n",
    "import var.var as V\n",
    "\n",
    "# utils\n",
    "import utils.data as D\n",
    "import utils.preprocess as PP"
   ]
  },
  {
   "cell_type": "code",
   "execution_count": null,
   "id": "b1b5b57b",
   "metadata": {},
   "outputs": [],
   "source": [
    "## Set up chinese font for matplotlib\n",
    "plt.rcParams['font.family'] = 'sans-serif'\n",
    "plt.rcParams['font.sans-serif'] = ['Noto Sans CJK TC']  \n",
    "plt.rcParams['axes.unicode_minus'] = False"
   ]
  },
  {
   "cell_type": "markdown",
   "id": "6543bde5",
   "metadata": {},
   "source": [
    "## Read Latest Dataframe"
   ]
  },
  {
   "cell_type": "code",
   "execution_count": null,
   "id": "f19965de",
   "metadata": {},
   "outputs": [],
   "source": [
    "df_comments = D.read_df_comments()\n",
    "df_comments.head()"
   ]
  },
  {
   "cell_type": "code",
   "execution_count": null,
   "id": "8ebe5ebd",
   "metadata": {
    "scrolled": false
   },
   "outputs": [],
   "source": [
    "df_tokenized_comments = D.read_df_tokenized_comments()\n",
    "df_tokenized_comments.head()"
   ]
  },
  {
   "cell_type": "code",
   "execution_count": null,
   "id": "2effd8a5",
   "metadata": {},
   "outputs": [],
   "source": [
    "df_applicants = D.read_df_applicants()\n",
    "df_applicants.head()"
   ]
  },
  {
   "cell_type": "markdown",
   "id": "8524a1c3",
   "metadata": {},
   "source": [
    "## Calculate the length of the comment"
   ]
  },
  {
   "cell_type": "code",
   "execution_count": null,
   "id": "16ec1c4e",
   "metadata": {},
   "outputs": [],
   "source": [
    "df_comments['comment'] = df_comments['comment'].apply(\n",
    "    lambda s: str(s)\n",
    ")"
   ]
  },
  {
   "cell_type": "code",
   "execution_count": null,
   "id": "e47ea952",
   "metadata": {},
   "outputs": [],
   "source": [
    "# length of application\n",
    "df_comments['comment_length'] = df_comments['comment'].apply(\n",
    "    lambda s: len(s) if not PP.is_empty_sent(s) else np.NaN\n",
    ")"
   ]
  },
  {
   "cell_type": "code",
   "execution_count": null,
   "id": "bca1ce9e",
   "metadata": {},
   "outputs": [],
   "source": [
    "df_comments['comment_length'].describe()"
   ]
  },
  {
   "cell_type": "markdown",
   "id": "055bea5f",
   "metadata": {},
   "source": [
    "# EDA"
   ]
  },
  {
   "cell_type": "markdown",
   "id": "be1852f9",
   "metadata": {},
   "source": [
    "## Use talent and field to group students"
   ]
  },
  {
   "cell_type": "markdown",
   "id": "6d88980a",
   "metadata": {},
   "source": [
    "### Group by year"
   ]
  },
  {
   "cell_type": "code",
   "execution_count": null,
   "id": "3a51d801",
   "metadata": {},
   "outputs": [],
   "source": [
    "g_applicants_year = df_applicants.groupby('year')"
   ]
  },
  {
   "cell_type": "code",
   "execution_count": null,
   "id": "8324b75b",
   "metadata": {},
   "outputs": [],
   "source": [
    "for year, yg in g_applicants_year:\n",
    "    print(\"Year {}: \".format(year))\n",
    "    g_applicants_year_group = yg.groupby('group')\n",
    "    \n",
    "    for group, ygg in g_applicants_year_group:\n",
    "        print(\"Year {} Group {} Summarized Talent Distribution: \".format(year, group))\n",
    "        print(ygg.summarized_talent.value_counts())\n",
    "        print(\"-\"*50)"
   ]
  },
  {
   "cell_type": "markdown",
   "id": "df9d8a71",
   "metadata": {},
   "source": [
    "### Map talent to predefined field\n",
    "- Only focus on summarized talent label after year 109"
   ]
  },
  {
   "cell_type": "code",
   "execution_count": null,
   "id": "40278a50",
   "metadata": {},
   "outputs": [],
   "source": [
    "def summarized_talent_matching(s_talent):\n",
    "    field = \"\"\n",
    "    for talent in V.TALENT_LIST:\n",
    "        if talent in s_talent:\n",
    "            field = V.TALENT_TO_FIELD_MAPPING[talent]\n",
    "            break\n",
    "    \n",
    "    if field == \"\":\n",
    "        print(s_talent)\n",
    "    \n",
    "    return field"
   ]
  },
  {
   "cell_type": "code",
   "execution_count": null,
   "id": "103e450b",
   "metadata": {},
   "outputs": [],
   "source": [
    "df_applicants[\"talent_field\"] = df_applicants.summarized_talent.apply(summarized_talent_matching)"
   ]
  },
  {
   "cell_type": "code",
   "execution_count": null,
   "id": "dbbee1f0",
   "metadata": {},
   "outputs": [],
   "source": [
    "(df_applicants[\"talent_field\"] == \"\").value_counts()"
   ]
  },
  {
   "cell_type": "code",
   "execution_count": null,
   "id": "5ac5eb87",
   "metadata": {},
   "outputs": [],
   "source": [
    "D.write_df_applicants(df_applicants, file=\"csv\")\n",
    "D.write_df_applicants(df_applicants, file=\"pkl\")"
   ]
  },
  {
   "cell_type": "markdown",
   "id": "c29a5d42",
   "metadata": {},
   "source": [
    "## Generate word cloud for comments in each field"
   ]
  },
  {
   "cell_type": "markdown",
   "id": "7c97f17c",
   "metadata": {},
   "source": [
    "### Filter applicants\n",
    "- Focus on data from year 109 - 111"
   ]
  },
  {
   "cell_type": "code",
   "execution_count": null,
   "id": "84798603",
   "metadata": {},
   "outputs": [],
   "source": [
    "applicants_year_109_to_111_filter = (df_applicants['year'] >= 109)\n",
    "df_109_to_111_applicants = df_applicants[applicants_year_109_to_111_filter]\n",
    "df_109_to_111_applicants.shape"
   ]
  },
  {
   "cell_type": "code",
   "execution_count": null,
   "id": "f84049d4",
   "metadata": {},
   "outputs": [],
   "source": [
    "df_109_to_111_applicants.talent_field.value_counts()"
   ]
  },
  {
   "cell_type": "code",
   "execution_count": null,
   "id": "86562283",
   "metadata": {},
   "outputs": [],
   "source": [
    "df_tokenized_comments = pd.merge(\n",
    "    df_tokenized_comments, df_applicants[['year', 'id', 'group', 'talent_field']], \n",
    "    how='inner', on=['year', 'id', 'group'], validate=\"many_to_one\"\n",
    ")"
   ]
  },
  {
   "cell_type": "code",
   "execution_count": null,
   "id": "d27dad2b",
   "metadata": {},
   "outputs": [],
   "source": [
    "comments_year_109_to_111_filter = (df_tokenized_comments['year'] >= 109)\n",
    "df_109_to_111_tokenized_comments = df_tokenized_comments[comments_year_109_to_111_filter]\n",
    "df_109_to_111_tokenized_comments.shape"
   ]
  },
  {
   "cell_type": "code",
   "execution_count": null,
   "id": "3fa40a5d",
   "metadata": {},
   "outputs": [],
   "source": [
    "g_109_to_111_tokenized_comments = df_109_to_111_tokenized_comments.groupby(\"talent_field\")"
   ]
  },
  {
   "cell_type": "markdown",
   "id": "6464c949",
   "metadata": {},
   "source": [
    "### Calculate word count"
   ]
  },
  {
   "cell_type": "code",
   "execution_count": null,
   "id": "3bdf4f47",
   "metadata": {},
   "outputs": [],
   "source": [
    "from collections import Counter\n",
    "from wordcloud import WordCloud"
   ]
  },
  {
   "cell_type": "code",
   "execution_count": null,
   "id": "67002277",
   "metadata": {},
   "outputs": [],
   "source": [
    "POS_FILTER = [\n",
    "    'ENTITY',\n",
    "    'ACTION',\n",
    "    'MODIFIER',\n",
    "    'KNOWLEDGE',\n",
    "    'Verb'\n",
    "]"
   ]
  },
  {
   "cell_type": "code",
   "execution_count": null,
   "id": "21d986f1",
   "metadata": {},
   "outputs": [],
   "source": [
    "field_word_count_dict = {}\n",
    "\n",
    "for field, gdf in g_109_to_111_tokenized_comments:\n",
    "    cnt = Counter()\n",
    "    \n",
    "    for idx, row in gdf.iterrows():\n",
    "        token_list = row['ckip_comment_ws']\n",
    "        pos_list = row['ckip_comment_pos']\n",
    "        \n",
    "        for token, pos in zip(token_list, pos_list):\n",
    "            if not PP.is_empty_sent(token) and pos in POS_FILTER:\n",
    "                cnt[token] += 1\n",
    "    \n",
    "    field_word_count_dict[field] = cnt"
   ]
  },
  {
   "cell_type": "markdown",
   "id": "734fb735",
   "metadata": {},
   "source": [
    "### Generate word cloud from word count"
   ]
  },
  {
   "cell_type": "code",
   "execution_count": null,
   "id": "8e40f393",
   "metadata": {},
   "outputs": [],
   "source": [
    "for field in field_word_count_dict:\n",
    "    print(field)\n",
    "    word_count = field_word_count_dict[field]\n",
    "    wordcloud = WordCloud(\n",
    "        width=1600,\n",
    "        height=1200,\n",
    "#         max_font_size=60,\n",
    "        font_path=V.FONT_PATH\n",
    "    ).generate_from_frequencies(word_count)\n",
    "    \n",
    "    plt.figure(figsize=(20,15))\n",
    "#     plt.title(\"{} Comment Word Cloud from Year 109 to 111\".format(field))\n",
    "    plt.imshow(wordcloud, interpolation=\"bilinear\")\n",
    "    plt.axis(\"off\")\n",
    "#     plt.show()\n",
    "    \n",
    "    ## save image\n",
    "    folder_name = os.path.join(P.FP_EDA_QUALITATIVE_DIR, 'comment_word_cloud_by_field')\n",
    "    fig_name = \"{}_comment_word_cloud_from_109_to_111_.png\".format(field)\n",
    "    plt.savefig(os.path.join(folder_name, fig_name))"
   ]
  },
  {
   "cell_type": "markdown",
   "id": "c74ed86f",
   "metadata": {},
   "source": [
    "## Draw grade distribution"
   ]
  },
  {
   "cell_type": "code",
   "execution_count": null,
   "id": "6db74cfa",
   "metadata": {},
   "outputs": [],
   "source": [
    "def draw_grade_distribution(df, year, folder_name=None, fig_name=None):\n",
    "    grade_distribution = df['grade'].value_counts()\n",
    "    grade_distribution.sort_index(inplace=True)\n",
    "\n",
    "    labels = V.GRADE_SYMBOLS # ['A', 'B', 'C', 'F']\n",
    "    values = [grade_distribution[s] for s in V.GRADE_SYMBOLS]\n",
    "    x = np.arange(len(labels))  # the label locations\n",
    "    width = 0.7  # the width of the bars\n",
    "\n",
    "    fig, ax = plt.subplots(figsize=(8, 6))\n",
    "    rects = ax.bar(x, values, width)\n",
    "\n",
    "    # Add some text for labels, title and custom x-axis tick labels, etc.\n",
    "    ax.set_xlabel('Grade')\n",
    "    ax.set_ylabel('Comment Count')\n",
    "    ax.set_title('Year {} Grade Distribution'.format(year))\n",
    "    ax.set_xticks(x)\n",
    "    ax.set_xticklabels(labels)\n",
    "    fig.tight_layout()\n",
    "    \n",
    "    if folder_name and fig_name:\n",
    "        plt.savefig(os.path.join(folder_name, fig_name))"
   ]
  },
  {
   "cell_type": "code",
   "execution_count": null,
   "id": "35666a84",
   "metadata": {},
   "outputs": [],
   "source": [
    "for year, yg in g_comments_year:\n",
    "    fig_name = '{}_grade_dist.png'.format(year)\n",
    "    \n",
    "    draw_grade_distribution(\n",
    "        yg, \n",
    "        year,\n",
    "        folder_name=os.path.join(P.FP_EDA_QUANTITATIVE_DIR, 'grade_distribution'),\n",
    "        fig_name=fig_name\n",
    "#     plt.show()\n",
    "    )"
   ]
  },
  {
   "cell_type": "markdown",
   "id": "9b2fd306",
   "metadata": {},
   "source": [
    "## Standard deviation within the same group of students in the same year"
   ]
  },
  {
   "cell_type": "markdown",
   "id": "bc3ddb06",
   "metadata": {},
   "source": [
    "#### Experiment 1\n",
    "- Control Variables: year, group\n",
    "- Independent Variables: quartile\n",
    "- Dependent Variables:"
   ]
  },
  {
   "cell_type": "code",
   "execution_count": null,
   "id": "0e350f2a",
   "metadata": {},
   "outputs": [],
   "source": [
    "def calculate_groups_avg_score_std_by_quartile(df):\n",
    "    \"\"\"\n",
    "        return: 2d array with shape (num_groups, 4),\n",
    "        representing the average standard deviation value w.r.t score.\n",
    "    \"\"\"\n",
    "    groups = df.groupby('group')\n",
    "    ## std mean for each quartile in each group\n",
    "    groups_avg_score_std_by_quartile = []\n",
    "    \n",
    "    ## Calculate std mean for each quartile in each group\n",
    "    for group_label, group in groups:\n",
    "        id_groups = group.groupby('id')\n",
    "        \n",
    "        score_mean = id_groups['score'].mean().rename(\"mean\")\n",
    "        score_std = id_groups['score'].std().rename(\"std\")\n",
    "        id_score_stats = pd.merge(score_mean, score_std, left_index=True, right_index=True)\n",
    "        \n",
    "        quartiles = score_mean.quantile([.25, .5, .75]).tolist()\n",
    "        quartiles = [0] + quartiles + [float('inf')]\n",
    "        \n",
    "        score_quartile_group = pd.cut(\n",
    "            score_mean,\n",
    "            bins=quartiles,\n",
    "            labels=['Q1', 'Q2', 'Q3', 'Q4']\n",
    "        ).rename(\"quartile_group\")\n",
    "\n",
    "        id_score_stats = pd.merge(id_score_stats, score_quartile_group, left_index=True, right_index=True)\n",
    "        group_avg_score_std = id_score_stats.groupby('quartile_group')['std'].mean().tolist()\n",
    "        groups_avg_score_std_by_quartile.append(group_avg_score_std)\n",
    "    \n",
    "    return np.array(groups_avg_score_std_by_quartile)"
   ]
  },
  {
   "cell_type": "code",
   "execution_count": null,
   "id": "c54ffdc3",
   "metadata": {},
   "outputs": [],
   "source": [
    "def draw_avg_score_std_by_quartile(df, year, folder_name=None, fig_name=None):\n",
    "    groups_avg_score_std_by_quartile = calculate_groups_avg_score_std_by_quartile(df)\n",
    "\n",
    "    ## Plot the values\n",
    "    # independent variables\n",
    "    quartile_labels = ['Q1', 'Q2', 'Q3', 'Q4']\n",
    "    x = np.arange(len(quartile_labels)) * 2  # the label locations\n",
    "    \n",
    "    # control variables\n",
    "    group_labels = V.GROUP_LABELS[year]\n",
    "    n_rects = len(group_labels)\n",
    "    \n",
    "    fig, ax = plt.subplots(figsize=(8, 6))\n",
    "    \n",
    "    ## the width of the bars\n",
    "    width = 0.3\n",
    "    w = (-n_rects + 1) * width / 2\n",
    "    \n",
    "    ## add a set of bars for each group\n",
    "    for i, values in enumerate(groups_avg_score_std_by_quartile):\n",
    "        rects = ax.bar(x + w, values, width, label=group_labels[i])\n",
    "        w = w + width\n",
    "\n",
    "    ## Add some text for labels, title and custom x-axis tick labels, etc.\n",
    "    ax.set_xlabel('Quartile')\n",
    "    ax.set_ylabel('Average Standard Deviation w.r.t Score')\n",
    "    ax.set_title('Year {} Average Standard Deviation w.r.t Score in each quartile'.format(year))\n",
    "    ax.set_xticks(x)\n",
    "    ax.set_xticklabels(quartile_labels)\n",
    "    ax.set_ylim([0, 10])\n",
    "    ax.legend()\n",
    "    fig.tight_layout()\n",
    "    \n",
    "    if folder_name and fig_name:\n",
    "        plt.savefig(os.path.join(folder_name, fig_name))"
   ]
  },
  {
   "cell_type": "code",
   "execution_count": null,
   "id": "8cdbafd8",
   "metadata": {},
   "outputs": [],
   "source": [
    "for year, yg in g_comments_year:\n",
    "    fig_name = '{}_avg_score_std_by_quartile.png'.format(year)\n",
    "    \n",
    "    draw_avg_score_std_by_quartile(\n",
    "        yg, \n",
    "        year,\n",
    "        folder_name=os.path.join(P.FP_EDA_QUANTITATIVE_DIR, 'avg_score_std_by_quartile'),\n",
    "        fig_name=fig_name\n",
    "    )"
   ]
  },
  {
   "cell_type": "markdown",
   "id": "5056b448",
   "metadata": {},
   "source": [
    "#### Experiment 2\n",
    "- Control Variables: year, quartile\n",
    "- Independent Variables: group\n",
    "- Dependent Variables:"
   ]
  },
  {
   "cell_type": "code",
   "execution_count": null,
   "id": "2c6a1dc0",
   "metadata": {},
   "outputs": [],
   "source": [
    "def draw_avg_score_std_by_group(df, year, folder_name=None, fig_name=None):\n",
    "    groups_avg_score_std_by_quartile = calculate_groups_avg_score_std_by_quartile(df)\n",
    "    groups_avg_score_std_by_group = np.transpose(groups_avg_score_std_by_quartile)\n",
    "    \n",
    "    ## Plot the values\n",
    "    # independent variables\n",
    "    group_labels = V.GROUP_LABELS[year]\n",
    "    x = np.arange(len(group_labels)) * 2  # the label locations\n",
    "    \n",
    "    # control variables\n",
    "    quartile_labels = ['Q1', 'Q2', 'Q3', 'Q4']\n",
    "    n_rects = len(quartile_labels)\n",
    "    \n",
    "    fig, ax = plt.subplots(figsize=(8, 6))\n",
    "        \n",
    "    ## the width of the bars\n",
    "    width = 0.45\n",
    "    w = (-n_rects + 1) * width / 2\n",
    "    \n",
    "    ## add a set of bars for each group\n",
    "    for i, values in enumerate(groups_avg_score_std_by_group):\n",
    "        rects = ax.bar(x + w, values, width, label=quartile_labels[i])\n",
    "        w = w + width\n",
    "\n",
    "    ## Add some text for labels, title and custom x-axis tick labels, etc.\n",
    "    ax.set_xlabel('Group')\n",
    "    ax.set_ylabel('Average Standard Deviation w.r.t Score')\n",
    "    ax.set_title('Year {} Average Standard Deviation w.r.t Score in each group'.format(year))\n",
    "    ax.set_xticks(x)\n",
    "    ax.set_xticklabels(group_labels)\n",
    "    ax.set_ylim([0, 10])\n",
    "    ax.legend()\n",
    "    fig.tight_layout()\n",
    "    \n",
    "    if folder_name and fig_name:\n",
    "        plt.savefig(os.path.join(folder_name, fig_name))"
   ]
  },
  {
   "cell_type": "code",
   "execution_count": null,
   "id": "a49f1a26",
   "metadata": {},
   "outputs": [],
   "source": [
    "for year, yg in g_comments_year:\n",
    "    fig_name = '{}_avg_score_std_by_group.png'.format(year)\n",
    "    \n",
    "    draw_avg_score_std_by_group(\n",
    "        yg, \n",
    "        year,\n",
    "        folder_name=os.path.join(P.FP_EDA_QUANTITATIVE_DIR, 'avg_score_std_by_group'),\n",
    "        fig_name=fig_name\n",
    "    )"
   ]
  },
  {
   "cell_type": "markdown",
   "id": "0a91e4ba",
   "metadata": {},
   "source": [
    "#### Experiment 3\n",
    "- Control Variables: \n",
    "- Independent Variables: committee's scoring\n",
    "- Dependent Variables:"
   ]
  },
  {
   "cell_type": "code",
   "execution_count": null,
   "id": "0e5d8ac7",
   "metadata": {},
   "outputs": [],
   "source": [
    "df_comments['score'] = df_comments.apply(\n",
    "    lambda r: V.NULL_GRADE_FILL[r['grade']] if np.isnan(r['score']) else r['score'],\n",
    "    axis=1\n",
    ")"
   ]
  },
  {
   "cell_type": "code",
   "execution_count": null,
   "id": "df28720e",
   "metadata": {},
   "outputs": [],
   "source": [
    "def calculate_committee_scoring_difference(df):\n",
    "    \"\"\"\n",
    "        \n",
    "    \"\"\"\n",
    "    groups = df.groupby('group')\n",
    "    ## std mean for each quartile in each group\n",
    "    groups_committee_scoring_diff = []\n",
    "    \n",
    "    ## Calculate std mean for each quartile in each group\n",
    "    for group_label, group in groups:\n",
    "#         print(group_label)\n",
    "        id_groups = group.groupby('id')\n",
    "#         for _id, g in id_groups:\n",
    "#             print(_id)\n",
    "#             print(g.shape)\n",
    "#             print(g)\n",
    "        committee_groups = group.groupby('committee_number')\n",
    "        \n",
    "#         print(id_groups['score'])\n",
    "        \n",
    "        group_committee_scoring_diff = []\n",
    "        for committee_label, committee_group in committee_groups:\n",
    "#             print(committee_label)\n",
    "#             print(committee_group['score'])\n",
    "            score_committee = committee_group['score'].to_numpy()\n",
    "            score_mean = id_groups['score'].mean().to_numpy()\n",
    "            \n",
    "            committee_scoring_diff = np.linalg.norm(score_committee - score_mean)\n",
    "            group_committee_scoring_diff.append(committee_scoring_diff)\n",
    "        \n",
    "        groups_committee_scoring_diff.append(group_committee_scoring_diff)\n",
    "    \n",
    "    return groups_committee_scoring_diff"
   ]
  },
  {
   "cell_type": "code",
   "execution_count": null,
   "id": "001331ad",
   "metadata": {},
   "outputs": [],
   "source": [
    "def draw_committee_scoring_difference(df, year, folder_name=None, fig_name=None):\n",
    "    groups_committee_scoring_difference = calculate_committee_scoring_difference(df)\n",
    "    group_labels = V.GROUP_LABELS[year]\n",
    "    \n",
    "#     print(year)\n",
    "#     print(groups_committee_scoring_difference)\n",
    "    \n",
    "    for i, group_committee_scoring_difference in enumerate(groups_committee_scoring_difference):\n",
    "        ## Plot the values\n",
    "        # independent variables\n",
    "        n_committee = len(group_committee_scoring_difference)\n",
    "        x = np.arange(n_committee) + 1  # the label locations\n",
    "        values = group_committee_scoring_difference\n",
    "        \n",
    "        fig, ax = plt.subplots(figsize=(8, 6))\n",
    "        \n",
    "        ## the width of the bars\n",
    "        width = 0.45\n",
    "        rects = ax.bar(x, values, width)\n",
    "\n",
    "        ## Add some text for labels, title and custom x-axis tick labels, etc.\n",
    "        ax.set_xlabel('Committee Member Number')\n",
    "        ax.set_ylabel('Scoring Difference')\n",
    "        ax.set_title('Year {} Group {} Committee Scoring Difference'.format(year, group_labels[i]))\n",
    "        ax.set_xticks(x)\n",
    "#         ax.set_ylim([0, 150])\n",
    "        fig.tight_layout()\n",
    "    \n",
    "        if folder_name and fig_name:\n",
    "            plt.savefig(os.path.join(folder_name, fig_name.format(year, group_labels[i])))"
   ]
  },
  {
   "cell_type": "code",
   "execution_count": null,
   "id": "b7be9e70",
   "metadata": {},
   "outputs": [],
   "source": [
    "for year, yg in g_comments_year:\n",
    "    if year < 111:\n",
    "        continue\n",
    "        \n",
    "    fig_name = '{}_{}_committee_scoring_difference.png'\n",
    "    \n",
    "    draw_committee_scoring_difference(\n",
    "        yg, \n",
    "        year,\n",
    "        folder_name=os.path.join(P.FP_EDA_QUANTITATIVE_DIR, 'committee_scoring_difference'),\n",
    "        fig_name=fig_name\n",
    "    )"
   ]
  },
  {
   "cell_type": "markdown",
   "id": "bb844593",
   "metadata": {},
   "source": [
    "#### Experiment 4\n",
    "- Control Variables:\n",
    "- Independent Variables:\n",
    "- Dependent Variables:"
   ]
  },
  {
   "cell_type": "code",
   "execution_count": null,
   "id": "7aa3acc1",
   "metadata": {},
   "outputs": [],
   "source": [
    "def calculate_groups_score_std(df):\n",
    "    \"\"\"\n",
    "        \n",
    "    \"\"\"\n",
    "    groups = df.groupby('group')\n",
    "    ## std mean for each quartile in each group\n",
    "    groups_score_std = []\n",
    "    \n",
    "    ## Calculate std mean for each quartile in each group\n",
    "    for group_label, group in groups:\n",
    "        id_groups = group.groupby('id')\n",
    "        \n",
    "        score_std = id_groups['score'].std().rename(\"std\")\n",
    "        groups_score_std.append(score_std)\n",
    "    \n",
    "    return groups_score_std"
   ]
  },
  {
   "cell_type": "code",
   "execution_count": null,
   "id": "f8172b4a",
   "metadata": {},
   "outputs": [],
   "source": [
    "def draw_groups_score_std_bin(df, year, folder_name=None, fig_name=None):\n",
    "    groups_score_std = calculate_groups_score_std(df)\n",
    "    group_labels = V.GROUP_LABELS[year]\n",
    "    \n",
    "    rows = 2\n",
    "    cols = 3\n",
    "    fig, axes = plt.subplots(nrows=rows, ncols=cols, figsize=(18, 12))\n",
    "        \n",
    "    for i, group_score_std in enumerate(groups_score_std):\n",
    "        ax = axes[math.floor(i / cols), i % cols]\n",
    "        \n",
    "        ## Plot the values\n",
    "        # independent variables\n",
    "        x = group_score_std  # the label locations\n",
    "        bins = [0, 2, 4, 6, 8, 10, 12]\n",
    "        \n",
    "#         ## the width of the bars\n",
    "        ax.hist(x, bins)\n",
    "\n",
    "#         ## Add some text for labels, title and custom x-axis tick labels, etc.\n",
    "        ax.set_xlabel('Score Standard Deviation')\n",
    "        ax.set_ylabel('Bin Count')\n",
    "        ax.set_title('Year {} Group {} Committee Scoring Difference'.format(year, group_labels[i]))\n",
    "    \n",
    "    if folder_name and fig_name:\n",
    "        plt.savefig(os.path.join(folder_name, fig_name))"
   ]
  },
  {
   "cell_type": "code",
   "execution_count": null,
   "id": "4b15c1a1",
   "metadata": {},
   "outputs": [],
   "source": [
    "for year, yg in g_comments_year:\n",
    "    fig_name = '{}_groups_score_std_bin.png'.format(year)\n",
    "    \n",
    "    draw_groups_score_std_bin(\n",
    "        yg, \n",
    "        year,\n",
    "        folder_name=os.path.join(P.FP_EDA_QUANTITATIVE_DIR, 'groups_score_std_bin'),\n",
    "        fig_name=fig_name\n",
    "    )"
   ]
  },
  {
   "cell_type": "markdown",
   "id": "32d3491b",
   "metadata": {},
   "source": [
    "## Draw distribution of the grade difference"
   ]
  },
  {
   "cell_type": "code",
   "execution_count": null,
   "id": "5e3a7fec",
   "metadata": {},
   "outputs": [],
   "source": [
    "def calculate_grade_diff(grade, original_grade):\n",
    "    return V.GRADE_SYMBOLS_NUM_BIN[original_grade] - V.GRADE_SYMBOLS_NUM_BIN[grade]"
   ]
  },
  {
   "cell_type": "code",
   "execution_count": null,
   "id": "56591f9b",
   "metadata": {},
   "outputs": [],
   "source": [
    "df_comments['grade_diff'] = df_comments.apply(lambda x: calculate_grade_diff(x.grade, x.original_grade), axis=1)"
   ]
  },
  {
   "cell_type": "code",
   "execution_count": null,
   "id": "6a0f89ff",
   "metadata": {},
   "outputs": [],
   "source": [
    "## exclude nan\n",
    "grade_diff_distribution = df_comments.grade_diff.value_counts()\n",
    "grade_diff_distribution.sort_index(inplace=True)\n",
    "_COUNT = grade_diff_distribution.sum()\n",
    "grade_diff_distribution_persent = grade_diff_distribution / _COUNT * 100\n",
    "grade_diff_distribution_persent"
   ]
  },
  {
   "cell_type": "code",
   "execution_count": null,
   "id": "db0c3626",
   "metadata": {},
   "outputs": [],
   "source": [
    "## include nan\n",
    "grade_diff_distribution['nan'] = df_comments.grade_diff.isna().sum()\n",
    "grade_diff_distribution_persent = grade_diff_distribution / COUNT * 100\n",
    "grade_diff_distribution_persent"
   ]
  }
 ],
 "metadata": {
  "kernelspec": {
   "display_name": "research_venv",
   "language": "python",
   "name": "research_venv"
  },
  "language_info": {
   "codemirror_mode": {
    "name": "ipython",
    "version": 3
   },
   "file_extension": ".py",
   "mimetype": "text/x-python",
   "name": "python",
   "nbconvert_exporter": "python",
   "pygments_lexer": "ipython3",
   "version": "3.10.8"
  }
 },
 "nbformat": 4,
 "nbformat_minor": 5
}
