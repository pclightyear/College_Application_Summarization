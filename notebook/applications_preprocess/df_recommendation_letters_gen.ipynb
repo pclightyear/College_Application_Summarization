{
 "cells": [
  {
   "cell_type": "markdown",
   "id": "142a9055",
   "metadata": {},
   "source": [
    "# README\n",
    "\n",
    "### Purpose of this notebook\n",
    "- Create dataframe for the recommendation letters.\n",
    "\n",
    "### Steps\n",
    "1. Concatenate all csv files into one csv file.\n",
    "2. Extract columns and create dataframe from the merged csv file.\n",
    "3. Simple EDA and perform null value check in the dataframe.\n",
    "\n",
    "For preprocessing the recommendation letters, go to `recommendation_letter_preprocess` notebook."
   ]
  },
  {
   "cell_type": "markdown",
   "id": "e784f91f",
   "metadata": {},
   "source": [
    "# Import Library"
   ]
  },
  {
   "cell_type": "code",
   "execution_count": null,
   "id": "3d3fd8bd",
   "metadata": {},
   "outputs": [],
   "source": [
    "import pandas as pd\n",
    "from importlib import reload\n",
    "from collections import defaultdict\n",
    "\n",
    "# Utility variable\n",
    "import sys\n",
    "sys.path.insert(0, '../..')\n",
    "\n",
    "## var\n",
    "import var.path as P\n",
    "import var.var as V\n",
    "\n",
    "## utils\n",
    "import utils.data as D"
   ]
  },
  {
   "cell_type": "markdown",
   "id": "6543bde5",
   "metadata": {},
   "source": [
    "## Read Lateset Dataframe"
   ]
  },
  {
   "cell_type": "markdown",
   "id": "71f8f28a",
   "metadata": {},
   "source": [
    "## Merge data from different year"
   ]
  },
  {
   "cell_type": "code",
   "execution_count": null,
   "id": "d02cb38b",
   "metadata": {},
   "outputs": [],
   "source": [
    "csvs = []\n",
    "\n",
    "for fp in P.FP_RECOMMENDATION_LETTER_CSV:\n",
    "    try:\n",
    "        year = int(fp.split('/')[-1][:3])\n",
    "        csv = pd.read_csv(fp)\n",
    "        csv['年份'] = year\n",
    "        csvs.append(csv)\n",
    "    except:\n",
    "        pass\n",
    "    \n",
    "df = pd.concat(csvs)"
   ]
  },
  {
   "cell_type": "code",
   "execution_count": null,
   "id": "8f38563c",
   "metadata": {},
   "outputs": [],
   "source": [
    "df.shape"
   ]
  },
  {
   "cell_type": "code",
   "execution_count": null,
   "id": "ca2eb587",
   "metadata": {
    "scrolled": true
   },
   "outputs": [],
   "source": [
    "df.columns.to_list()"
   ]
  },
  {
   "cell_type": "markdown",
   "id": "8613e949",
   "metadata": {},
   "source": [
    "### Check duplicate"
   ]
  },
  {
   "cell_type": "code",
   "execution_count": null,
   "id": "6659e1d3",
   "metadata": {},
   "outputs": [],
   "source": [
    "\"# The content is removed due to confidential concerns.\""
   ]
  },
  {
   "cell_type": "markdown",
   "id": "0d868ffa",
   "metadata": {},
   "source": [
    "# Read raw data and preprocess"
   ]
  },
  {
   "cell_type": "markdown",
   "id": "7c85aa55",
   "metadata": {},
   "source": [
    "### Utilities"
   ]
  },
  {
   "cell_type": "code",
   "execution_count": null,
   "id": "b5e56039",
   "metadata": {},
   "outputs": [],
   "source": [
    "df = pd.read_csv(P.FP_ALL_RECOMMENDATION_LETTER_CSV)\n",
    "df.shape"
   ]
  },
  {
   "cell_type": "code",
   "execution_count": null,
   "id": "83a79793",
   "metadata": {},
   "outputs": [],
   "source": [
    "for col in df:\n",
    "    print(df[col].isna().value_counts())\n",
    "    print('-'*50)"
   ]
  },
  {
   "cell_type": "code",
   "execution_count": null,
   "id": "e5b72b71",
   "metadata": {},
   "outputs": [],
   "source": [
    "df.columns.to_list()"
   ]
  },
  {
   "cell_type": "markdown",
   "id": "49372005",
   "metadata": {},
   "source": [
    "## Create achievement dataframe"
   ]
  },
  {
   "cell_type": "code",
   "execution_count": null,
   "id": "e77e142d",
   "metadata": {},
   "outputs": [],
   "source": [
    "col_year = \"# The content is removed due to confidential concerns.\"\n",
    "col_id = \"# The content is removed due to confidential concerns.\"\n",
    "\n",
    "col_talent_or_achievement = \"# The content is removed due to confidential concerns.\"\n",
    "col_talent_or_achievement_reason = \"# The content is removed due to confidential concerns.\"\n",
    "col_learning_attitude =\"# The content is removed due to confidential concerns.\"\n",
    "col_strength = \"# The content is removed due to confidential concerns.\"\n",
    "col_weakness = \"# The content is removed due to confidential concerns.\"\n",
    "col_recommend_reason = \"# The content is removed due to confidential concerns.\""
   ]
  },
  {
   "cell_type": "code",
   "execution_count": null,
   "id": "a5cc522b",
   "metadata": {},
   "outputs": [],
   "source": [
    "df_recommendation_letter_list = []\n",
    "\n",
    "\"\"\"\n",
    "First, create a list of dictionary (row data).\n",
    "Then, create the dataframe with the list of data.\n",
    "NEVER append row data inside a for loop, which is a common cause of the poor performance.\n",
    "(At each iteration, a new dataframe would be created. What a waste!)\n",
    "\"\"\"\n",
    "\n",
    "recommendation_letter_counter = defaultdict(int)\n",
    "\n",
    "for _, row in df.iterrows():\n",
    "    _year = row[col_year]\n",
    "    _id = row[col_id]\n",
    "    idx = (_year, _id)\n",
    "    recommendation_letter_counter[idx] += 1\n",
    "    \n",
    "    df_ds_row_data = {\n",
    "        'year': _year,\n",
    "        'id': _id,\n",
    "        'letter_num': recommendation_letter_counter[idx],\n",
    "        'talent_or_achievement': row[col_talent_or_achievement],\n",
    "        'talent_or_achievement_reason': row[col_talent_or_achievement_reason],\n",
    "        'learning_attitude': row[col_learning_attitude],\n",
    "        'strength': row[col_strength],\n",
    "        'weakness': row[col_weakness],\n",
    "        'recommend_reason': row[col_recommend_reason],\n",
    "    }\n",
    "    \n",
    "    df_recommendation_letter_list.append(df_ds_row_data)\n",
    "                        \n",
    "df_recommendation_letters = pd.DataFrame(df_recommendation_letter_list)"
   ]
  },
  {
   "cell_type": "code",
   "execution_count": null,
   "id": "083a73f0",
   "metadata": {
    "scrolled": true
   },
   "outputs": [],
   "source": [
    "df_recommendation_letters"
   ]
  },
  {
   "cell_type": "markdown",
   "id": "23e186f8",
   "metadata": {},
   "source": [
    "### Check for null value in each column"
   ]
  },
  {
   "cell_type": "code",
   "execution_count": null,
   "id": "28093910",
   "metadata": {},
   "outputs": [],
   "source": [
    "for col in df_recommendation_letters:\n",
    "    print(df_recommendation_letters[col].isna().value_counts())\n",
    "    print('-'*50)"
   ]
  },
  {
   "cell_type": "code",
   "execution_count": null,
   "id": "8068560f",
   "metadata": {},
   "outputs": [],
   "source": [
    "df_recommendation_letters.fillna(\"\", inplace=True)"
   ]
  },
  {
   "cell_type": "code",
   "execution_count": null,
   "id": "c348a982",
   "metadata": {},
   "outputs": [],
   "source": [
    "df_recommendation_letters.sort_values(by=['year', 'id', 'letter_num'], inplace=True)"
   ]
  },
  {
   "cell_type": "code",
   "execution_count": null,
   "id": "cb07f093",
   "metadata": {},
   "outputs": [],
   "source": [
    "for col in df_recommendation_letters:\n",
    "    print(df_recommendation_letters[col].isna().value_counts())\n",
    "    print('-'*50)"
   ]
  },
  {
   "cell_type": "code",
   "execution_count": null,
   "id": "5282415e",
   "metadata": {},
   "outputs": [],
   "source": [
    "df_recommendation_letters.year.value_counts()"
   ]
  },
  {
   "cell_type": "code",
   "execution_count": null,
   "id": "0fb93e4c",
   "metadata": {},
   "outputs": [],
   "source": [
    "df_recommendation_letters.letter_num.value_counts()"
   ]
  },
  {
   "cell_type": "code",
   "execution_count": null,
   "id": "97c78841",
   "metadata": {},
   "outputs": [],
   "source": [
    "D.write_df_recommendation_letters(df_recommendation_letters, file='csv')\n",
    "D.write_df_recommendation_letters(df_recommendation_letters, file='pkl')"
   ]
  },
  {
   "cell_type": "code",
   "execution_count": null,
   "id": "2abc8eb5",
   "metadata": {},
   "outputs": [],
   "source": []
  }
 ],
 "metadata": {
  "kernelspec": {
   "display_name": "research_venv",
   "language": "python",
   "name": "research_venv"
  },
  "language_info": {
   "codemirror_mode": {
    "name": "ipython",
    "version": 3
   },
   "file_extension": ".py",
   "mimetype": "text/x-python",
   "name": "python",
   "nbconvert_exporter": "python",
   "pygments_lexer": "ipython3",
   "version": "3.10.8"
  }
 },
 "nbformat": 4,
 "nbformat_minor": 5
}
