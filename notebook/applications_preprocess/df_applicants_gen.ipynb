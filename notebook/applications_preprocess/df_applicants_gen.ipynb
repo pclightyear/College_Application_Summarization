{
 "cells": [
  {
   "cell_type": "markdown",
   "id": "2b40a921",
   "metadata": {},
   "source": [
    "# README\n",
    "\n",
    "### Purpose of this notebook\n",
    "- Create dataframe for applicants' info.\n",
    "\n",
    "### Steps\n",
    "1. Concatenate all raw csv files into one csv file.\n",
    "2. Extract columns and create dataframe from the merged data sheet.\n",
    "3. Simple EDA and perform null value check in the dataframe.\n",
    "    - Handle outliers"
   ]
  },
  {
   "cell_type": "markdown",
   "id": "e784f91f",
   "metadata": {},
   "source": [
    "# Import Library"
   ]
  },
  {
   "cell_type": "code",
   "execution_count": null,
   "id": "3d3fd8bd",
   "metadata": {},
   "outputs": [],
   "source": [
    "import pandas as pd\n",
    "import numpy as np\n",
    "\n",
    "from importlib import reload\n",
    "\n",
    "# Utility variable\n",
    "import sys\n",
    "sys.path.insert(0, '../..')\n",
    "\n",
    "# var\n",
    "import var.path as P\n",
    "import var.var as V\n",
    "\n",
    "# utils\n",
    "import utils.data as D"
   ]
  },
  {
   "cell_type": "markdown",
   "id": "d9a55823",
   "metadata": {},
   "source": [
    "# Applicants after year 110 (inclusive)\n",
    "- Extract data from data sheet."
   ]
  },
  {
   "cell_type": "markdown",
   "id": "712a77c9",
   "metadata": {},
   "source": [
    "## Read raw data and preprocess"
   ]
  },
  {
   "cell_type": "code",
   "execution_count": null,
   "id": "7a575536",
   "metadata": {},
   "outputs": [],
   "source": [
    "df = pd.read_csv(P.FP_ALL_DATA_SHEET_CSV)\n",
    "df.shape"
   ]
  },
  {
   "cell_type": "code",
   "execution_count": null,
   "id": "6d710da9",
   "metadata": {
    "scrolled": true
   },
   "outputs": [],
   "source": [
    "df.columns.to_list()"
   ]
  },
  {
   "cell_type": "markdown",
   "id": "de966342",
   "metadata": {},
   "source": [
    "## Extract desired data"
   ]
  },
  {
   "cell_type": "code",
   "execution_count": null,
   "id": "840823c5",
   "metadata": {},
   "outputs": [],
   "source": [
    "col_year = \"# The content is removed due to confidential concerns.\"\n",
    "col_id = \"# The content is removed due to confidential concerns.\"\n",
    "col_name = \"# The content is removed due to confidential concerns.\"\n",
    "col_summarized_talent = \"# The content is removed due to confidential concerns.\"\n",
    "col_main_talent = \"# The content is removed due to confidential concerns.\"\n",
    "col_secondary_talent = \"# The content is removed due to confidential concerns.\"\n",
    "col_special_background = \"# The content is removed due to confidential concerns.\"\n",
    "col_school = \"# The content is removed due to confidential concerns.\""
   ]
  },
  {
   "cell_type": "code",
   "execution_count": null,
   "id": "3ef3e34c",
   "metadata": {},
   "outputs": [],
   "source": [
    "df_applicants_data_list = []\n",
    "\n",
    "\"\"\"\n",
    "First, create a list of dictionary (row data).\n",
    "Then, create the dataframe with the list of data.\n",
    "NEVER append row data inside a for loop, which is a common cause of the poor performance.\n",
    "(At each iteration, a new dataframe would be created. What a waste!)\n",
    "\"\"\"\n",
    "\n",
    "for idx, row in df.iterrows():\n",
    "    row_data = {\n",
    "        'year': row[col_year],\n",
    "        'id': row[col_id],\n",
    "        'name': row[col_name],\n",
    "        'summarized_talent': row[col_summarized_talent],\n",
    "        'main_talent': row[col_main_talent],\n",
    "        'secondary_talent': row[col_secondary_talent],\n",
    "        'special_background': row[col_special_background],\n",
    "        'school': row[col_school],\n",
    "    }\n",
    "        \n",
    "    df_applicants_data_list.append(row_data)"
   ]
  },
  {
   "cell_type": "markdown",
   "id": "52b0d44d",
   "metadata": {},
   "source": [
    "# Applicants before year 109 (inclusive)\n",
    "- Extract data from comments."
   ]
  },
  {
   "cell_type": "markdown",
   "id": "1eb156d2",
   "metadata": {},
   "source": [
    "## Read raw data and preprocess"
   ]
  },
  {
   "cell_type": "code",
   "execution_count": null,
   "id": "8239d196",
   "metadata": {},
   "outputs": [],
   "source": [
    "df = pd.read_csv(P.FP_ALL_COMMENT_CSV)\n",
    "df.shape"
   ]
  },
  {
   "cell_type": "code",
   "execution_count": null,
   "id": "ad1417a3",
   "metadata": {
    "scrolled": true
   },
   "outputs": [],
   "source": [
    "df.columns.to_list()"
   ]
  },
  {
   "cell_type": "code",
   "execution_count": null,
   "id": "30d27e6a",
   "metadata": {},
   "outputs": [],
   "source": [
    "col_year = \"# The content is removed due to confidential concerns.\"\n",
    "col_id = \"# The content is removed due to confidential concerns.\"\n",
    "col_name = \"# The content is removed due to confidential concerns.\"\n",
    "col_summarized_talent = \"# The content is removed due to confidential concerns.\"\n",
    "col_main_talent = \"# The content is removed due to confidential concerns.\"\n",
    "col_special_background = \"# The content is removed due to confidential concerns.\"\n",
    "col_school = \"# The content is removed due to confidential concerns.\""
   ]
  },
  {
   "cell_type": "code",
   "execution_count": null,
   "id": "3238a5b4",
   "metadata": {},
   "outputs": [],
   "source": [
    "\"\"\"\n",
    "Keep collection row data entry.\n",
    "\"\"\"\n",
    "\n",
    "for idx, row in df.iterrows():\n",
    "    row_data = {\n",
    "        'year': row[col_year],\n",
    "        'id': row[col_id],\n",
    "        'name': row[col_name],\n",
    "        'summarized_talent': row[col_summarized_talent],\n",
    "        'main_talent': row[col_main_talent],\n",
    "        'special_background': row[col_special_background],\n",
    "        'school': row[col_school],\n",
    "    }\n",
    "    \n",
    "    if row_data['year'] <= 109:\n",
    "        df_applicants_data_list.append(row_data)"
   ]
  },
  {
   "cell_type": "code",
   "execution_count": null,
   "id": "87e39869",
   "metadata": {},
   "outputs": [],
   "source": [
    "## Create dataframe                \n",
    "df_applicants = pd.DataFrame(df_applicants_data_list)"
   ]
  },
  {
   "cell_type": "code",
   "execution_count": null,
   "id": "e0ec898c",
   "metadata": {},
   "outputs": [],
   "source": [
    "df_applicants.sort_values(by=['year', 'id'], inplace=True)\n",
    "df_applicants.reset_index(drop=True, inplace=True)"
   ]
  },
  {
   "cell_type": "code",
   "execution_count": null,
   "id": "42aab6f0",
   "metadata": {},
   "outputs": [],
   "source": [
    "df_applicants.head()"
   ]
  },
  {
   "cell_type": "markdown",
   "id": "6288043f",
   "metadata": {},
   "source": [
    "### Map talent to predefined field\n",
    "- Only focus on summarized talent label after year 109"
   ]
  },
  {
   "cell_type": "code",
   "execution_count": null,
   "id": "b914b2cf",
   "metadata": {},
   "outputs": [],
   "source": [
    "def summarized_talent_matching(s_talent):\n",
    "    if type(s_talent) == float and np.isnan(s_talent):\n",
    "        return \"無\"\n",
    "    \n",
    "    field = \"\"\n",
    "    for talent in V.TALENT_LIST:\n",
    "        if talent in s_talent:\n",
    "            field = V.TALENT_TO_FIELD_MAPPING[talent]\n",
    "            break\n",
    "    \n",
    "    if field == \"\":\n",
    "        print(s_talent)\n",
    "    \n",
    "    return field"
   ]
  },
  {
   "cell_type": "code",
   "execution_count": null,
   "id": "97d96601",
   "metadata": {},
   "outputs": [],
   "source": [
    "df_applicants[\"talent_field\"] = df_applicants.summarized_talent.apply(summarized_talent_matching)"
   ]
  },
  {
   "cell_type": "code",
   "execution_count": null,
   "id": "2e665360",
   "metadata": {},
   "outputs": [],
   "source": [
    "df_applicants[\"talent_field\"].value_counts()"
   ]
  },
  {
   "cell_type": "code",
   "execution_count": null,
   "id": "3e927f5e",
   "metadata": {},
   "outputs": [],
   "source": [
    "for col in df_applicants:\n",
    "    print(df_applicants[col].isna().value_counts())\n",
    "    print('-'*50)"
   ]
  },
  {
   "cell_type": "markdown",
   "id": "58332ea4",
   "metadata": {},
   "source": [
    "## Train test split"
   ]
  },
  {
   "cell_type": "code",
   "execution_count": null,
   "id": "f9b198fb",
   "metadata": {},
   "outputs": [],
   "source": [
    "from sklearn.model_selection import train_test_split"
   ]
  },
  {
   "cell_type": "code",
   "execution_count": null,
   "id": "77d871a5",
   "metadata": {},
   "outputs": [],
   "source": [
    "df_applicants_train, df_applicants_test = train_test_split(\n",
    "    df_applicants, test_size=0.1, random_state=42\n",
    ")"
   ]
  },
  {
   "cell_type": "code",
   "execution_count": null,
   "id": "7c1fe451",
   "metadata": {},
   "outputs": [],
   "source": [
    "df_applicants_train[\"train_or_test\"] = \"train\"\n",
    "df_applicants_test[\"train_or_test\"] = \"test\" ## Actually is validation set"
   ]
  },
  {
   "cell_type": "code",
   "execution_count": null,
   "id": "45ef8b39",
   "metadata": {},
   "outputs": [],
   "source": [
    "df_applicants = pd.concat([df_applicants_train, df_applicants_test])"
   ]
  },
  {
   "cell_type": "code",
   "execution_count": null,
   "id": "40609a4f",
   "metadata": {},
   "outputs": [],
   "source": [
    "test_tuple = [\n",
    "    \"# The content is removed due to confidential concerns.\"\n",
    "]"
   ]
  },
  {
   "cell_type": "code",
   "execution_count": null,
   "id": "f0d9b1a3",
   "metadata": {},
   "outputs": [],
   "source": [
    "def force_test_data(row):\n",
    "    _year = row['year']\n",
    "    _id = row['id']\n",
    "    \n",
    "    if (_year, _id) in test_tuple:\n",
    "        return \"test\"\n",
    "    \n",
    "    return row['train_or_test']"
   ]
  },
  {
   "cell_type": "code",
   "execution_count": null,
   "id": "d145cfd2",
   "metadata": {},
   "outputs": [],
   "source": [
    "df_applicants['train_or_test'] = df_applicants.apply(force_test_data, axis=1)"
   ]
  },
  {
   "cell_type": "code",
   "execution_count": null,
   "id": "365d2074",
   "metadata": {},
   "outputs": [],
   "source": [
    "df_applicants['train_or_test'].value_counts()"
   ]
  },
  {
   "cell_type": "markdown",
   "id": "5bc61ca4",
   "metadata": {},
   "source": [
    "## Sort the dataframe"
   ]
  },
  {
   "cell_type": "code",
   "execution_count": null,
   "id": "680465a6",
   "metadata": {},
   "outputs": [],
   "source": [
    "df_applicants.sort_values(by=['year', 'id'], inplace=True)\n",
    "df_applicants.reset_index(drop=True, inplace=True)"
   ]
  },
  {
   "cell_type": "code",
   "execution_count": null,
   "id": "98bfa6a6",
   "metadata": {},
   "outputs": [],
   "source": [
    "df_applicants.head()"
   ]
  },
  {
   "cell_type": "code",
   "execution_count": null,
   "id": "0e9905a9",
   "metadata": {},
   "outputs": [],
   "source": [
    "df_applicants.tail()"
   ]
  },
  {
   "cell_type": "markdown",
   "id": "971ea7cc",
   "metadata": {},
   "source": [
    "## Save to dataframe"
   ]
  },
  {
   "cell_type": "code",
   "execution_count": null,
   "id": "ef8ae87b",
   "metadata": {},
   "outputs": [],
   "source": [
    "D.write_df_applicants(df_applicants, file='csv')\n",
    "D.write_df_applicants(df_applicants, file='pkl')"
   ]
  },
  {
   "cell_type": "code",
   "execution_count": null,
   "id": "e0786955",
   "metadata": {},
   "outputs": [],
   "source": []
  }
 ],
 "metadata": {
  "kernelspec": {
   "display_name": "research_venv",
   "language": "python",
   "name": "research_venv"
  },
  "language_info": {
   "codemirror_mode": {
    "name": "ipython",
    "version": 3
   },
   "file_extension": ".py",
   "mimetype": "text/x-python",
   "name": "python",
   "nbconvert_exporter": "python",
   "pygments_lexer": "ipython3",
   "version": "3.10.8"
  }
 },
 "nbformat": 4,
 "nbformat_minor": 5
}
