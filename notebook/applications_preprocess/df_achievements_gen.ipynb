{
 "cells": [
  {
   "cell_type": "markdown",
   "id": "142a9055",
   "metadata": {},
   "source": [
    "# README\n",
    "\n",
    "### Purpose of this notebook\n",
    "- Create dataframe for the achievements.\n",
    "\n",
    "### Steps\n",
    "1. Concatenate all data sheets into one csv file.\n",
    "2. Extract columns and create dataframe from the merged data sheet.\n",
    "3. Simple EDA and perform null value check in the dataframe."
   ]
  },
  {
   "cell_type": "markdown",
   "id": "e784f91f",
   "metadata": {},
   "source": [
    "# Import Library"
   ]
  },
  {
   "cell_type": "code",
   "execution_count": null,
   "id": "3d3fd8bd",
   "metadata": {},
   "outputs": [],
   "source": [
    "import pandas as pd\n",
    "from importlib import reload\n",
    "\n",
    "# Utility variable\n",
    "import sys\n",
    "sys.path.insert(0, '../..')\n",
    "\n",
    "## var\n",
    "import var.path as P\n",
    "import var.var as V\n",
    "\n",
    "## utils\n",
    "import utils.data as D"
   ]
  },
  {
   "cell_type": "markdown",
   "id": "6543bde5",
   "metadata": {},
   "source": [
    "## Read Lateset Dataframe"
   ]
  },
  {
   "cell_type": "markdown",
   "id": "71f8f28a",
   "metadata": {},
   "source": [
    "## Merge data from different year"
   ]
  },
  {
   "cell_type": "code",
   "execution_count": null,
   "id": "d02cb38b",
   "metadata": {},
   "outputs": [],
   "source": [
    "csvs = []\n",
    "\n",
    "for fp in P.FP_DATA_SHEET_CSV:\n",
    "    try:\n",
    "        csv = pd.read_csv(fp)\n",
    "        csvs.append(csv)\n",
    "    except:\n",
    "        pass\n",
    "    \n",
    "df = pd.concat(csvs)"
   ]
  },
  {
   "cell_type": "code",
   "execution_count": null,
   "id": "64837ec5",
   "metadata": {},
   "outputs": [],
   "source": [
    "df.shape"
   ]
  },
  {
   "cell_type": "code",
   "execution_count": null,
   "id": "744be524",
   "metadata": {},
   "outputs": [],
   "source": [
    "df.columns.to_list()"
   ]
  },
  {
   "cell_type": "markdown",
   "id": "8613e949",
   "metadata": {},
   "source": [
    "### Check duplicate"
   ]
  },
  {
   "cell_type": "code",
   "execution_count": null,
   "id": "115528d6",
   "metadata": {},
   "outputs": [],
   "source": [
    "# The content is removed due to confidential concerns."
   ]
  },
  {
   "cell_type": "markdown",
   "id": "0d868ffa",
   "metadata": {},
   "source": [
    "# Read raw data and preprocess"
   ]
  },
  {
   "cell_type": "markdown",
   "id": "7c85aa55",
   "metadata": {},
   "source": [
    "### Utilities"
   ]
  },
  {
   "cell_type": "code",
   "execution_count": null,
   "id": "b5e56039",
   "metadata": {},
   "outputs": [],
   "source": [
    "df = pd.read_csv(P.FP_ALL_DATA_SHEET_CSV)\n",
    "df.shape"
   ]
  },
  {
   "cell_type": "code",
   "execution_count": null,
   "id": "83a79793",
   "metadata": {},
   "outputs": [],
   "source": [
    "for col in df:\n",
    "    print(df[col].isna().value_counts())\n",
    "    print('-'*50)"
   ]
  },
  {
   "cell_type": "code",
   "execution_count": null,
   "id": "e5b72b71",
   "metadata": {},
   "outputs": [],
   "source": [
    "df.columns.to_list()"
   ]
  },
  {
   "cell_type": "markdown",
   "id": "49372005",
   "metadata": {},
   "source": [
    "## Create achievement dataframe"
   ]
  },
  {
   "cell_type": "code",
   "execution_count": null,
   "id": "e77e142d",
   "metadata": {},
   "outputs": [],
   "source": [
    "col_year = \"# The content is removed due to confidential concerns.\"\n",
    "col_id = \"# The content is removed due to confidential concerns.\"\n",
    "col_name = \"# The content is removed due to confidential concerns.\"\n",
    "col_group = \"# The content is removed due to confidential concerns.\"\n",
    "col_group_112 = \"# The content is removed due to confidential concerns.\"\n",
    "\n",
    "fstr_achievement_grade = \"# The content is removed due to confidential concerns.\"\n",
    "fstr_personal_achievement_grade = \"# The content is removed due to confidential concerns.\"\n",
    "fstr_team_achievement_grade = \"# The content is removed due to confidential concerns.\"\n",
    "\n",
    "fstr_achievement = \"# The content is removed due to confidential concerns.\"\n",
    "fstr_personal_achievement = \"# The content is removed due to confidential concerns.\"\n",
    "fstr_team_achievement = \"# The content is removed due to confidential concerns.\"\n",
    "\n",
    "fstr_achievement_result = \"# The content is removed due to confidential concerns.\"\n",
    "fstr_personal_achievement_result = \"# The content is removed due to confidential concerns.\"\n",
    "fstr_team_achievement_result = \"# The content is removed due to confidential concerns.\"\n",
    "\n",
    "fstr_achievement_level = \"# The content is removed due to confidential concerns.\"\n",
    "fstr_personal_achievement_level = \"# The content is removed due to confidential concerns.\"\n",
    "fstr_team_achievement_level = \"# The content is removed due to confidential concerns.\""
   ]
  },
  {
   "cell_type": "code",
   "execution_count": null,
   "id": "a5cc522b",
   "metadata": {},
   "outputs": [],
   "source": [
    "## data before year 112\n",
    "\n",
    "df_achievements_data_list = []\n",
    "\n",
    "\"\"\"\n",
    "First, create a list of dictionary (row data).\n",
    "Then, create the dataframe with the list of data.\n",
    "NEVER append row data inside a for loop, which is a common cause of the poor performance.\n",
    "(At each iteration, a new dataframe would be created. What a waste!)\n",
    "\"\"\"\n",
    "\n",
    "for idx, row in df.iterrows():\n",
    "    if row[col_year] >= 112:\n",
    "        continue\n",
    "    for achievement_num in range(1, V.MAX_NUM_ACHIEVEMENTS+1):\n",
    "        col_achievement_grade = fstr_achievement_grade.format(achievement_num)\n",
    "        col_achievement = fstr_achievement.format(achievement_num)\n",
    "        col_achievement_result = fstr_achievement_result.format(achievement_num)\n",
    "        col_achievement_level = fstr_achievement_level.format(achievement_num)\n",
    "        \n",
    "        df_ds_row_data = {\n",
    "            'year': row[col_year],\n",
    "            'id': row[col_id],\n",
    "            'name': row[col_name],\n",
    "            'group': row[col_group],\n",
    "            'achievement_num': achievement_num,\n",
    "            'achievement_grade': row[col_achievement_grade],\n",
    "            'achievement': row[col_achievement],\n",
    "            'achievement_result': row[col_achievement_result],\n",
    "            'achievement_level': row[col_achievement_level],\n",
    "        }\n",
    "        \n",
    "        if not pd.isna(df_ds_row_data['achievement']):\n",
    "            if df_ds_row_data['achievement'] != '':\n",
    "                df_achievements_data_list.append(df_ds_row_data)"
   ]
  },
  {
   "cell_type": "code",
   "execution_count": null,
   "id": "5a654e39",
   "metadata": {},
   "outputs": [],
   "source": [
    "len(df_achievements_data_list)"
   ]
  },
  {
   "cell_type": "code",
   "execution_count": null,
   "id": "46fafd38",
   "metadata": {},
   "outputs": [],
   "source": [
    "\"\"\"\n",
    "First, create a list of dictionary (row data).\n",
    "Then, create the dataframe with the list of data.\n",
    "NEVER append row data inside a for loop, which is a common cause of the poor performance.\n",
    "(At each iteration, a new dataframe would be created. What a waste!)\n",
    "\"\"\"\n",
    "\n",
    "for idx, row in df.iterrows():\n",
    "    if row[col_year] < 112:\n",
    "        continue\n",
    "        \n",
    "    for achievement_num in range(1, V.MAX_NUM_ACHIEVEMENTS_AFTER_YEAR_112+1):\n",
    "        ## personal achievement\n",
    "        col_personal_achievement_grade = fstr_personal_achievement_grade.format(achievement_num)\n",
    "        col_personal_achievement = fstr_personal_achievement.format(achievement_num)\n",
    "        col_personal_achievement_result = fstr_personal_achievement_result.format(achievement_num)\n",
    "        col_personal_achievement_level = fstr_personal_achievement_level.format(achievement_num)\n",
    "        \n",
    "        df_personal_ds_row_data = {\n",
    "            'year': row[col_year],\n",
    "            'id': row[col_id],\n",
    "            'name': row[col_name],\n",
    "            'group': row[col_group_112],\n",
    "            'achievement_num': achievement_num,\n",
    "            'achievement_grade': row[col_personal_achievement_grade],\n",
    "            'achievement': row[col_personal_achievement],\n",
    "            'achievement_result': row[col_personal_achievement_result],\n",
    "            'achievement_level': row[col_personal_achievement_level],\n",
    "            'personal_or_team': 'personal',\n",
    "        }\n",
    "        \n",
    "        if not pd.isna(df_personal_ds_row_data['achievement']) and not df_personal_ds_row_data['achievement'] == '':\n",
    "            df_achievements_data_list.append(df_personal_ds_row_data)\n",
    "        \n",
    "        ## team achievement\n",
    "        col_team_achievement_grade = fstr_team_achievement_grade.format(achievement_num)\n",
    "        col_team_achievement = fstr_team_achievement.format(achievement_num)\n",
    "        col_team_achievement_result = fstr_team_achievement_result.format(achievement_num)\n",
    "        col_team_achievement_level = fstr_team_achievement_level.format(achievement_num)\n",
    "        \n",
    "        df_team_ds_row_data = {\n",
    "            'year': row[col_year],\n",
    "            'id': row[col_id],\n",
    "            'name': row[col_name],\n",
    "            'group': row[col_group_112],\n",
    "            'achievement_num': achievement_num + 3,\n",
    "            'achievement_grade': row[col_team_achievement_grade],\n",
    "            'achievement': row[col_team_achievement],\n",
    "            'achievement_result': row[col_team_achievement_result],\n",
    "            'achievement_level': row[col_team_achievement_level],\n",
    "            'personal_or_team': 'team',\n",
    "        }\n",
    "        \n",
    "        if not pd.isna(df_team_ds_row_data['achievement']) and not df_team_ds_row_data['achievement'] == '':\n",
    "            df_achievements_data_list.append(df_team_ds_row_data)"
   ]
  },
  {
   "cell_type": "code",
   "execution_count": null,
   "id": "f1f76e53",
   "metadata": {},
   "outputs": [],
   "source": [
    "len(df_achievements_data_list)"
   ]
  },
  {
   "cell_type": "code",
   "execution_count": null,
   "id": "8a3b189c",
   "metadata": {},
   "outputs": [],
   "source": [
    "df_achievements = pd.DataFrame(df_achievements_data_list)"
   ]
  },
  {
   "cell_type": "code",
   "execution_count": null,
   "id": "083a73f0",
   "metadata": {
    "scrolled": true
   },
   "outputs": [],
   "source": [
    "df_achievements"
   ]
  },
  {
   "cell_type": "code",
   "execution_count": null,
   "id": "2036b1b6",
   "metadata": {},
   "outputs": [],
   "source": [
    "df_achievements['achievement'].apply(lambda a: len(a) > 0).value_counts()"
   ]
  },
  {
   "cell_type": "markdown",
   "id": "23e186f8",
   "metadata": {},
   "source": [
    "### Check for null value in each column"
   ]
  },
  {
   "cell_type": "code",
   "execution_count": null,
   "id": "28093910",
   "metadata": {},
   "outputs": [],
   "source": [
    "for col in df_achievements:\n",
    "    print(df_achievements[col].isna().value_counts())\n",
    "    print('-'*50)"
   ]
  },
  {
   "cell_type": "code",
   "execution_count": null,
   "id": "5282415e",
   "metadata": {},
   "outputs": [],
   "source": [
    "df_achievements.year.value_counts()"
   ]
  },
  {
   "cell_type": "code",
   "execution_count": null,
   "id": "0fb93e4c",
   "metadata": {},
   "outputs": [],
   "source": [
    "df_achievements.group.value_counts()"
   ]
  },
  {
   "cell_type": "code",
   "execution_count": null,
   "id": "7eb1a465",
   "metadata": {},
   "outputs": [],
   "source": [
    "df_achievements.achievement_grade.value_counts()"
   ]
  },
  {
   "cell_type": "code",
   "execution_count": null,
   "id": "49153d91",
   "metadata": {},
   "outputs": [],
   "source": [
    "df_achievements.achievement_level.value_counts()"
   ]
  },
  {
   "cell_type": "code",
   "execution_count": null,
   "id": "97c78841",
   "metadata": {},
   "outputs": [],
   "source": [
    "D.write_df_achievements(df_achievements, file='csv')\n",
    "D.write_df_achievements(df_achievements, file='pkl')"
   ]
  },
  {
   "cell_type": "code",
   "execution_count": null,
   "id": "4d887c89",
   "metadata": {},
   "outputs": [],
   "source": []
  }
 ],
 "metadata": {
  "kernelspec": {
   "display_name": "research_venv",
   "language": "python",
   "name": "research_venv"
  },
  "language_info": {
   "codemirror_mode": {
    "name": "ipython",
    "version": 3
   },
   "file_extension": ".py",
   "mimetype": "text/x-python",
   "name": "python",
   "nbconvert_exporter": "python",
   "pygments_lexer": "ipython3",
   "version": "3.10.8"
  }
 },
 "nbformat": 4,
 "nbformat_minor": 5
}
